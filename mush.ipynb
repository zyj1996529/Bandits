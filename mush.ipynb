{
 "cells": [
  {
   "cell_type": "code",
   "execution_count": 1,
   "metadata": {},
   "outputs": [],
   "source": [
    "##import part\n",
    "import pandas as pd\n",
    "import numpy as np\n",
    "import random\n",
    "from tqdm import tqdm\n",
    "import matplotlib.pyplot as plt\n",
    "from sklearn.model_selection import train_test_split\n",
    "from numpy import genfromtxt\n",
    "plt.style.use('seaborn')\n",
    "\n",
    "\n",
    "# setting seeds\n",
    "# random.seed(42)\n",
    "# np.random.seed(42)"
   ]
  },
  {
   "cell_type": "code",
   "execution_count": 2,
   "metadata": {},
   "outputs": [],
   "source": [
    "class mushroomEnv:\n",
    "    # X is the feature, y is the reward.0 means eating\n",
    "    def __init__(self,X,y):\n",
    "        self.X=X\n",
    "        self.y=y\n",
    "\n",
    "        self.X = X\n",
    "        self.y = y\n",
    "\n",
    "    def eat_mushroom(self,mushroom_idx):\n",
    "\n",
    "        reward=self.y.loc[mushroom_idx].copy()        \n",
    "        # regret=\n",
    "        return reward\n",
    "\n",
    "    "
   ]
  },
  {
   "cell_type": "code",
   "execution_count": 3,
   "metadata": {},
   "outputs": [
    {
     "data": {
      "text/html": [
       "<div>\n",
       "<style scoped>\n",
       "    .dataframe tbody tr th:only-of-type {\n",
       "        vertical-align: middle;\n",
       "    }\n",
       "\n",
       "    .dataframe tbody tr th {\n",
       "        vertical-align: top;\n",
       "    }\n",
       "\n",
       "    .dataframe thead th {\n",
       "        text-align: right;\n",
       "    }\n",
       "</style>\n",
       "<table border=\"1\" class=\"dataframe\">\n",
       "  <thead>\n",
       "    <tr style=\"text-align: right;\">\n",
       "      <th></th>\n",
       "      <th>edible</th>\n",
       "      <th>cap-shape</th>\n",
       "      <th>cap-surface</th>\n",
       "      <th>cap-color</th>\n",
       "      <th>bruises</th>\n",
       "      <th>odor</th>\n",
       "      <th>gill-attachment</th>\n",
       "      <th>gill-spacing</th>\n",
       "      <th>gill-size</th>\n",
       "      <th>gill-color</th>\n",
       "      <th>...</th>\n",
       "      <th>stalk-surface-below-ring</th>\n",
       "      <th>stalk-color-above-ring</th>\n",
       "      <th>stalk-color-below-ring</th>\n",
       "      <th>veil-type</th>\n",
       "      <th>veil-color</th>\n",
       "      <th>ring-number</th>\n",
       "      <th>ring-type</th>\n",
       "      <th>spore-print-color</th>\n",
       "      <th>population</th>\n",
       "      <th>habitat</th>\n",
       "    </tr>\n",
       "  </thead>\n",
       "  <tbody>\n",
       "    <tr>\n",
<<<<<<< HEAD
       "      <th>7560</th>\n",
       "      <td>e</td>\n",
       "      <td>x</td>\n",
       "      <td>f</td>\n",
       "      <td>g</td>\n",
       "      <td>f</td>\n",
       "      <td>n</td>\n",
       "      <td>f</td>\n",
       "      <td>w</td>\n",
       "      <td>b</td>\n",
       "      <td>w</td>\n",
       "      <td>...</td>\n",
       "      <td>s</td>\n",
       "      <td>w</td>\n",
       "      <td>w</td>\n",
       "      <td>p</td>\n",
       "      <td>w</td>\n",
       "      <td>t</td>\n",
       "      <td>p</td>\n",
       "      <td>w</td>\n",
       "      <td>n</td>\n",
       "      <td>g</td>\n",
       "    </tr>\n",
       "    <tr>\n",
       "      <th>4400</th>\n",
       "      <td>p</td>\n",
       "      <td>x</td>\n",
       "      <td>f</td>\n",
       "      <td>y</td>\n",
=======
       "      <th>5284</th>\n",
       "      <td>e</td>\n",
       "      <td>x</td>\n",
       "      <td>y</td>\n",
       "      <td>r</td>\n",
       "      <td>f</td>\n",
       "      <td>n</td>\n",
       "      <td>f</td>\n",
       "      <td>c</td>\n",
       "      <td>n</td>\n",
       "      <td>w</td>\n",
       "      <td>...</td>\n",
       "      <td>f</td>\n",
       "      <td>w</td>\n",
       "      <td>w</td>\n",
       "      <td>p</td>\n",
       "      <td>w</td>\n",
       "      <td>o</td>\n",
       "      <td>f</td>\n",
       "      <td>h</td>\n",
       "      <td>v</td>\n",
       "      <td>d</td>\n",
       "    </tr>\n",
       "    <tr>\n",
       "      <th>5090</th>\n",
       "      <td>p</td>\n",
       "      <td>x</td>\n",
       "      <td>y</td>\n",
       "      <td>g</td>\n",
>>>>>>> 9450e0e4608de434bcea18082306024d45f21051
       "      <td>f</td>\n",
       "      <td>f</td>\n",
       "      <td>f</td>\n",
       "      <td>c</td>\n",
       "      <td>b</td>\n",
<<<<<<< HEAD
       "      <td>h</td>\n",
       "      <td>...</td>\n",
       "      <td>k</td>\n",
       "      <td>p</td>\n",
       "      <td>n</td>\n",
=======
       "      <td>g</td>\n",
       "      <td>...</td>\n",
       "      <td>k</td>\n",
       "      <td>b</td>\n",
       "      <td>b</td>\n",
>>>>>>> 9450e0e4608de434bcea18082306024d45f21051
       "      <td>p</td>\n",
       "      <td>w</td>\n",
       "      <td>o</td>\n",
       "      <td>l</td>\n",
       "      <td>h</td>\n",
       "      <td>v</td>\n",
<<<<<<< HEAD
       "      <td>g</td>\n",
       "    </tr>\n",
       "    <tr>\n",
       "      <th>664</th>\n",
       "      <td>e</td>\n",
       "      <td>b</td>\n",
       "      <td>s</td>\n",
       "      <td>w</td>\n",
=======
       "      <td>d</td>\n",
       "    </tr>\n",
       "    <tr>\n",
       "      <th>339</th>\n",
       "      <td>e</td>\n",
       "      <td>x</td>\n",
       "      <td>y</td>\n",
       "      <td>n</td>\n",
>>>>>>> 9450e0e4608de434bcea18082306024d45f21051
       "      <td>t</td>\n",
       "      <td>l</td>\n",
       "      <td>f</td>\n",
       "      <td>c</td>\n",
       "      <td>b</td>\n",
<<<<<<< HEAD
       "      <td>g</td>\n",
       "      <td>...</td>\n",
       "      <td>s</td>\n",
=======
       "      <td>n</td>\n",
       "      <td>...</td>\n",
       "      <td>y</td>\n",
>>>>>>> 9450e0e4608de434bcea18082306024d45f21051
       "      <td>w</td>\n",
       "      <td>w</td>\n",
       "      <td>p</td>\n",
       "      <td>w</td>\n",
       "      <td>o</td>\n",
       "      <td>p</td>\n",
<<<<<<< HEAD
       "      <td>n</td>\n",
       "      <td>s</td>\n",
       "      <td>g</td>\n",
       "    </tr>\n",
       "    <tr>\n",
       "      <th>3556</th>\n",
       "      <td>p</td>\n",
       "      <td>x</td>\n",
       "      <td>y</td>\n",
       "      <td>y</td>\n",
       "      <td>f</td>\n",
       "      <td>f</td>\n",
       "      <td>f</td>\n",
       "      <td>c</td>\n",
       "      <td>b</td>\n",
       "      <td>p</td>\n",
       "      <td>...</td>\n",
       "      <td>k</td>\n",
       "      <td>n</td>\n",
       "      <td>n</td>\n",
       "      <td>p</td>\n",
       "      <td>w</td>\n",
       "      <td>o</td>\n",
       "      <td>l</td>\n",
       "      <td>h</td>\n",
       "      <td>y</td>\n",
       "      <td>d</td>\n",
       "    </tr>\n",
       "    <tr>\n",
       "      <th>698</th>\n",
       "      <td>p</td>\n",
       "      <td>x</td>\n",
       "      <td>s</td>\n",
       "      <td>n</td>\n",
       "      <td>t</td>\n",
       "      <td>p</td>\n",
       "      <td>f</td>\n",
       "      <td>c</td>\n",
       "      <td>n</td>\n",
       "      <td>p</td>\n",
       "      <td>...</td>\n",
       "      <td>s</td>\n",
       "      <td>w</td>\n",
       "      <td>w</td>\n",
=======
       "      <td>k</td>\n",
       "      <td>y</td>\n",
       "      <td>g</td>\n",
       "    </tr>\n",
       "    <tr>\n",
       "      <th>6190</th>\n",
       "      <td>p</td>\n",
       "      <td>x</td>\n",
       "      <td>y</td>\n",
       "      <td>e</td>\n",
       "      <td>f</td>\n",
       "      <td>s</td>\n",
       "      <td>f</td>\n",
       "      <td>c</td>\n",
       "      <td>n</td>\n",
       "      <td>b</td>\n",
       "      <td>...</td>\n",
       "      <td>k</td>\n",
       "      <td>w</td>\n",
       "      <td>p</td>\n",
       "      <td>p</td>\n",
       "      <td>w</td>\n",
       "      <td>o</td>\n",
       "      <td>e</td>\n",
       "      <td>w</td>\n",
       "      <td>v</td>\n",
       "      <td>p</td>\n",
       "    </tr>\n",
       "    <tr>\n",
       "      <th>2644</th>\n",
       "      <td>e</td>\n",
       "      <td>x</td>\n",
       "      <td>y</td>\n",
       "      <td>n</td>\n",
       "      <td>t</td>\n",
       "      <td>n</td>\n",
       "      <td>f</td>\n",
       "      <td>c</td>\n",
       "      <td>b</td>\n",
       "      <td>w</td>\n",
       "      <td>...</td>\n",
       "      <td>s</td>\n",
       "      <td>p</td>\n",
       "      <td>p</td>\n",
>>>>>>> 9450e0e4608de434bcea18082306024d45f21051
       "      <td>p</td>\n",
       "      <td>w</td>\n",
       "      <td>o</td>\n",
       "      <td>p</td>\n",
       "      <td>n</td>\n",
<<<<<<< HEAD
       "      <td>v</td>\n",
       "      <td>u</td>\n",
=======
       "      <td>y</td>\n",
       "      <td>d</td>\n",
>>>>>>> 9450e0e4608de434bcea18082306024d45f21051
       "    </tr>\n",
       "    <tr>\n",
       "      <th>...</th>\n",
       "      <td>...</td>\n",
       "      <td>...</td>\n",
       "      <td>...</td>\n",
       "      <td>...</td>\n",
       "      <td>...</td>\n",
       "      <td>...</td>\n",
       "      <td>...</td>\n",
       "      <td>...</td>\n",
       "      <td>...</td>\n",
       "      <td>...</td>\n",
       "      <td>...</td>\n",
       "      <td>...</td>\n",
       "      <td>...</td>\n",
       "      <td>...</td>\n",
       "      <td>...</td>\n",
       "      <td>...</td>\n",
       "      <td>...</td>\n",
       "      <td>...</td>\n",
       "      <td>...</td>\n",
       "      <td>...</td>\n",
       "      <td>...</td>\n",
       "    </tr>\n",
       "    <tr>\n",
<<<<<<< HEAD
       "      <th>6527</th>\n",
       "      <td>p</td>\n",
       "      <td>x</td>\n",
       "      <td>s</td>\n",
       "      <td>e</td>\n",
       "      <td>f</td>\n",
       "      <td>s</td>\n",
       "      <td>f</td>\n",
       "      <td>c</td>\n",
       "      <td>n</td>\n",
       "      <td>b</td>\n",
=======
       "      <th>277</th>\n",
       "      <td>e</td>\n",
       "      <td>x</td>\n",
       "      <td>y</td>\n",
       "      <td>w</td>\n",
       "      <td>t</td>\n",
       "      <td>a</td>\n",
       "      <td>f</td>\n",
       "      <td>c</td>\n",
       "      <td>b</td>\n",
       "      <td>w</td>\n",
>>>>>>> 9450e0e4608de434bcea18082306024d45f21051
       "      <td>...</td>\n",
       "      <td>s</td>\n",
       "      <td>w</td>\n",
       "      <td>w</td>\n",
       "      <td>p</td>\n",
       "      <td>w</td>\n",
       "      <td>o</td>\n",
<<<<<<< HEAD
       "      <td>e</td>\n",
       "      <td>w</td>\n",
       "      <td>v</td>\n",
       "      <td>p</td>\n",
       "    </tr>\n",
       "    <tr>\n",
       "      <th>891</th>\n",
       "      <td>e</td>\n",
       "      <td>f</td>\n",
       "      <td>y</td>\n",
       "      <td>y</td>\n",
       "      <td>t</td>\n",
       "      <td>l</td>\n",
       "      <td>f</td>\n",
       "      <td>c</td>\n",
       "      <td>b</td>\n",
       "      <td>p</td>\n",
       "      <td>...</td>\n",
       "      <td>y</td>\n",
       "      <td>w</td>\n",
       "      <td>w</td>\n",
=======
       "      <td>p</td>\n",
       "      <td>n</td>\n",
       "      <td>n</td>\n",
       "      <td>m</td>\n",
       "    </tr>\n",
       "    <tr>\n",
       "      <th>4107</th>\n",
       "      <td>e</td>\n",
       "      <td>f</td>\n",
       "      <td>f</td>\n",
       "      <td>g</td>\n",
       "      <td>t</td>\n",
       "      <td>n</td>\n",
       "      <td>f</td>\n",
       "      <td>c</td>\n",
       "      <td>b</td>\n",
       "      <td>w</td>\n",
       "      <td>...</td>\n",
       "      <td>s</td>\n",
       "      <td>g</td>\n",
       "      <td>g</td>\n",
>>>>>>> 9450e0e4608de434bcea18082306024d45f21051
       "      <td>p</td>\n",
       "      <td>w</td>\n",
       "      <td>o</td>\n",
       "      <td>p</td>\n",
       "      <td>k</td>\n",
       "      <td>y</td>\n",
<<<<<<< HEAD
       "      <td>g</td>\n",
       "    </tr>\n",
       "    <tr>\n",
       "      <th>649</th>\n",
       "      <td>e</td>\n",
       "      <td>f</td>\n",
       "      <td>f</td>\n",
       "      <td>w</td>\n",
       "      <td>t</td>\n",
       "      <td>l</td>\n",
       "      <td>f</td>\n",
       "      <td>w</td>\n",
       "      <td>n</td>\n",
       "      <td>p</td>\n",
=======
       "      <td>d</td>\n",
       "    </tr>\n",
       "    <tr>\n",
       "      <th>5934</th>\n",
       "      <td>p</td>\n",
       "      <td>f</td>\n",
       "      <td>s</td>\n",
       "      <td>b</td>\n",
       "      <td>t</td>\n",
       "      <td>f</td>\n",
       "      <td>f</td>\n",
       "      <td>c</td>\n",
       "      <td>b</td>\n",
       "      <td>w</td>\n",
>>>>>>> 9450e0e4608de434bcea18082306024d45f21051
       "      <td>...</td>\n",
       "      <td>s</td>\n",
       "      <td>w</td>\n",
       "      <td>w</td>\n",
       "      <td>p</td>\n",
       "      <td>w</td>\n",
       "      <td>o</td>\n",
       "      <td>p</td>\n",
<<<<<<< HEAD
       "      <td>u</td>\n",
       "      <td>v</td>\n",
       "      <td>d</td>\n",
       "    </tr>\n",
       "    <tr>\n",
       "      <th>6841</th>\n",
       "      <td>p</td>\n",
       "      <td>f</td>\n",
       "      <td>s</td>\n",
       "      <td>e</td>\n",
       "      <td>f</td>\n",
       "      <td>y</td>\n",
       "      <td>f</td>\n",
       "      <td>c</td>\n",
       "      <td>n</td>\n",
       "      <td>b</td>\n",
       "      <td>...</td>\n",
       "      <td>s</td>\n",
       "      <td>w</td>\n",
       "      <td>p</td>\n",
       "      <td>p</td>\n",
       "      <td>w</td>\n",
       "      <td>o</td>\n",
       "      <td>e</td>\n",
       "      <td>w</td>\n",
       "      <td>v</td>\n",
       "      <td>d</td>\n",
       "    </tr>\n",
       "    <tr>\n",
       "      <th>29</th>\n",
       "      <td>e</td>\n",
       "      <td>x</td>\n",
       "      <td>s</td>\n",
       "      <td>y</td>\n",
       "      <td>t</td>\n",
       "      <td>a</td>\n",
       "      <td>f</td>\n",
       "      <td>w</td>\n",
       "      <td>n</td>\n",
       "      <td>n</td>\n",
=======
       "      <td>h</td>\n",
       "      <td>s</td>\n",
       "      <td>g</td>\n",
       "    </tr>\n",
       "    <tr>\n",
       "      <th>7872</th>\n",
       "      <td>e</td>\n",
       "      <td>k</td>\n",
       "      <td>s</td>\n",
       "      <td>w</td>\n",
       "      <td>f</td>\n",
       "      <td>n</td>\n",
       "      <td>f</td>\n",
       "      <td>w</td>\n",
       "      <td>b</td>\n",
       "      <td>p</td>\n",
       "      <td>...</td>\n",
       "      <td>k</td>\n",
       "      <td>w</td>\n",
       "      <td>w</td>\n",
       "      <td>p</td>\n",
       "      <td>w</td>\n",
       "      <td>t</td>\n",
       "      <td>p</td>\n",
       "      <td>w</td>\n",
       "      <td>n</td>\n",
       "      <td>g</td>\n",
       "    </tr>\n",
       "    <tr>\n",
       "      <th>1125</th>\n",
       "      <td>e</td>\n",
       "      <td>x</td>\n",
       "      <td>f</td>\n",
       "      <td>w</td>\n",
       "      <td>f</td>\n",
       "      <td>n</td>\n",
       "      <td>f</td>\n",
       "      <td>w</td>\n",
       "      <td>b</td>\n",
       "      <td>p</td>\n",
>>>>>>> 9450e0e4608de434bcea18082306024d45f21051
       "      <td>...</td>\n",
       "      <td>s</td>\n",
       "      <td>w</td>\n",
       "      <td>w</td>\n",
       "      <td>p</td>\n",
       "      <td>w</td>\n",
       "      <td>o</td>\n",
<<<<<<< HEAD
       "      <td>p</td>\n",
       "      <td>n</td>\n",
       "      <td>v</td>\n",
       "      <td>d</td>\n",
=======
       "      <td>e</td>\n",
       "      <td>k</td>\n",
       "      <td>s</td>\n",
       "      <td>g</td>\n",
>>>>>>> 9450e0e4608de434bcea18082306024d45f21051
       "    </tr>\n",
       "  </tbody>\n",
       "</table>\n",
       "<p>8124 rows × 23 columns</p>\n",
       "</div>"
      ],
      "text/plain": [
       "     edible cap-shape cap-surface cap-color bruises odor gill-attachment  \\\n",
<<<<<<< HEAD
       "7560      e         x           f         g       f    n               f   \n",
       "4400      p         x           f         y       f    f               f   \n",
       "664       e         b           s         w       t    l               f   \n",
       "3556      p         x           y         y       f    f               f   \n",
       "698       p         x           s         n       t    p               f   \n",
       "...     ...       ...         ...       ...     ...  ...             ...   \n",
       "6527      p         x           s         e       f    s               f   \n",
       "891       e         f           y         y       t    l               f   \n",
       "649       e         f           f         w       t    l               f   \n",
       "6841      p         f           s         e       f    y               f   \n",
       "29        e         x           s         y       t    a               f   \n",
       "\n",
       "     gill-spacing gill-size gill-color  ... stalk-surface-below-ring  \\\n",
       "7560            w         b          w  ...                        s   \n",
       "4400            c         b          h  ...                        k   \n",
       "664             c         b          g  ...                        s   \n",
       "3556            c         b          p  ...                        k   \n",
       "698             c         n          p  ...                        s   \n",
       "...           ...       ...        ...  ...                      ...   \n",
       "6527            c         n          b  ...                        s   \n",
       "891             c         b          p  ...                        y   \n",
       "649             w         n          p  ...                        s   \n",
       "6841            c         n          b  ...                        s   \n",
       "29              w         n          n  ...                        s   \n",
       "\n",
       "     stalk-color-above-ring stalk-color-below-ring veil-type veil-color  \\\n",
       "7560                      w                      w         p          w   \n",
       "4400                      p                      n         p          w   \n",
       "664                       w                      w         p          w   \n",
       "3556                      n                      n         p          w   \n",
       "698                       w                      w         p          w   \n",
       "...                     ...                    ...       ...        ...   \n",
       "6527                      w                      w         p          w   \n",
       "891                       w                      w         p          w   \n",
       "649                       w                      w         p          w   \n",
       "6841                      w                      p         p          w   \n",
       "29                        w                      w         p          w   \n",
       "\n",
       "     ring-number ring-type spore-print-color population habitat  \n",
       "7560           t         p                 w          n       g  \n",
       "4400           o         l                 h          v       g  \n",
       "664            o         p                 n          s       g  \n",
       "3556           o         l                 h          y       d  \n",
       "698            o         p                 n          v       u  \n",
       "...          ...       ...               ...        ...     ...  \n",
       "6527           o         e                 w          v       p  \n",
       "891            o         p                 k          y       g  \n",
       "649            o         p                 u          v       d  \n",
       "6841           o         e                 w          v       d  \n",
       "29             o         p                 n          v       d  \n",
=======
       "5284      e         x           y         r       f    n               f   \n",
       "5090      p         x           y         g       f    f               f   \n",
       "339       e         x           y         n       t    l               f   \n",
       "6190      p         x           y         e       f    s               f   \n",
       "2644      e         x           y         n       t    n               f   \n",
       "...     ...       ...         ...       ...     ...  ...             ...   \n",
       "277       e         x           y         w       t    a               f   \n",
       "4107      e         f           f         g       t    n               f   \n",
       "5934      p         f           s         b       t    f               f   \n",
       "7872      e         k           s         w       f    n               f   \n",
       "1125      e         x           f         w       f    n               f   \n",
       "\n",
       "     gill-spacing gill-size gill-color  ... stalk-surface-below-ring  \\\n",
       "5284            c         n          w  ...                        f   \n",
       "5090            c         b          g  ...                        k   \n",
       "339             c         b          n  ...                        y   \n",
       "6190            c         n          b  ...                        k   \n",
       "2644            c         b          w  ...                        s   \n",
       "...           ...       ...        ...  ...                      ...   \n",
       "277             c         b          w  ...                        s   \n",
       "4107            c         b          w  ...                        s   \n",
       "5934            c         b          w  ...                        s   \n",
       "7872            w         b          p  ...                        k   \n",
       "1125            w         b          p  ...                        s   \n",
       "\n",
       "     stalk-color-above-ring stalk-color-below-ring veil-type veil-color  \\\n",
       "5284                      w                      w         p          w   \n",
       "5090                      b                      b         p          w   \n",
       "339                       w                      w         p          w   \n",
       "6190                      w                      p         p          w   \n",
       "2644                      p                      p         p          w   \n",
       "...                     ...                    ...       ...        ...   \n",
       "277                       w                      w         p          w   \n",
       "4107                      g                      g         p          w   \n",
       "5934                      w                      w         p          w   \n",
       "7872                      w                      w         p          w   \n",
       "1125                      w                      w         p          w   \n",
       "\n",
       "     ring-number ring-type spore-print-color population habitat  \n",
       "5284           o         f                 h          v       d  \n",
       "5090           o         l                 h          v       d  \n",
       "339            o         p                 k          y       g  \n",
       "6190           o         e                 w          v       p  \n",
       "2644           o         p                 n          y       d  \n",
       "...          ...       ...               ...        ...     ...  \n",
       "277            o         p                 n          n       m  \n",
       "4107           o         p                 k          y       d  \n",
       "5934           o         p                 h          s       g  \n",
       "7872           t         p                 w          n       g  \n",
       "1125           o         e                 k          s       g  \n",
>>>>>>> 9450e0e4608de434bcea18082306024d45f21051
       "\n",
       "[8124 rows x 23 columns]"
      ]
     },
     "execution_count": 3,
     "metadata": {},
     "output_type": "execute_result"
    }
   ],
   "source": [
    "K=100\n",
    "df = pd.read_csv('interactive-intro-rl-master/data/mushroom.csv')\n",
    "df = df.sample(frac=1.0)\n",
    "X_raw = df.copy().drop('edible', axis=1)\n",
    "y = df.copy()['edible'].astype('category').cat.codes\n",
    "\n",
    "## change into separate class\n",
    "X = pd.get_dummies(X_raw,  drop_first=True)\n",
    "\n",
    "X_train1, X_test1, y_train1, y_test1 = train_test_split(X, y, test_size=0.01)\n",
    "\n",
    "\n",
    "X_test=X_test1.to_numpy()\n",
    "y_test=y_test1.to_numpy()\n",
    "df\n"
   ]
  },
  {
   "cell_type": "code",
   "execution_count": 4,
   "metadata": {},
   "outputs": [
    {
     "data": {
      "text/html": [
       "<div>\n",
       "<style scoped>\n",
       "    .dataframe tbody tr th:only-of-type {\n",
       "        vertical-align: middle;\n",
       "    }\n",
       "\n",
       "    .dataframe tbody tr th {\n",
       "        vertical-align: top;\n",
       "    }\n",
       "\n",
       "    .dataframe thead th {\n",
       "        text-align: right;\n",
       "    }\n",
       "</style>\n",
       "<table border=\"1\" class=\"dataframe\">\n",
       "  <thead>\n",
       "    <tr style=\"text-align: right;\">\n",
       "      <th></th>\n",
       "      <th>edible</th>\n",
       "      <th>cap-shape</th>\n",
       "      <th>cap-surface</th>\n",
       "      <th>cap-color</th>\n",
       "      <th>bruises</th>\n",
       "      <th>odor</th>\n",
       "      <th>gill-attachment</th>\n",
       "      <th>gill-spacing</th>\n",
       "      <th>gill-size</th>\n",
       "      <th>gill-color</th>\n",
       "      <th>...</th>\n",
       "      <th>stalk-surface-below-ring</th>\n",
       "      <th>stalk-color-above-ring</th>\n",
       "      <th>stalk-color-below-ring</th>\n",
       "      <th>veil-type</th>\n",
       "      <th>veil-color</th>\n",
       "      <th>ring-number</th>\n",
       "      <th>ring-type</th>\n",
       "      <th>spore-print-color</th>\n",
       "      <th>population</th>\n",
       "      <th>habitat</th>\n",
       "    </tr>\n",
       "  </thead>\n",
       "  <tbody>\n",
       "    <tr>\n",
<<<<<<< HEAD
       "      <th>7560</th>\n",
       "      <td>e</td>\n",
       "      <td>x</td>\n",
       "      <td>f</td>\n",
       "      <td>g</td>\n",
       "      <td>f</td>\n",
       "      <td>n</td>\n",
       "      <td>f</td>\n",
       "      <td>w</td>\n",
       "      <td>b</td>\n",
       "      <td>w</td>\n",
       "      <td>...</td>\n",
       "      <td>s</td>\n",
       "      <td>w</td>\n",
       "      <td>w</td>\n",
       "      <td>p</td>\n",
       "      <td>w</td>\n",
       "      <td>t</td>\n",
       "      <td>p</td>\n",
       "      <td>w</td>\n",
       "      <td>n</td>\n",
       "      <td>g</td>\n",
       "    </tr>\n",
       "    <tr>\n",
       "      <th>4400</th>\n",
       "      <td>p</td>\n",
       "      <td>x</td>\n",
       "      <td>f</td>\n",
       "      <td>y</td>\n",
=======
       "      <th>5284</th>\n",
       "      <td>e</td>\n",
       "      <td>x</td>\n",
       "      <td>y</td>\n",
       "      <td>r</td>\n",
       "      <td>f</td>\n",
       "      <td>n</td>\n",
       "      <td>f</td>\n",
       "      <td>c</td>\n",
       "      <td>n</td>\n",
       "      <td>w</td>\n",
       "      <td>...</td>\n",
       "      <td>f</td>\n",
       "      <td>w</td>\n",
       "      <td>w</td>\n",
       "      <td>p</td>\n",
       "      <td>w</td>\n",
       "      <td>o</td>\n",
       "      <td>f</td>\n",
       "      <td>h</td>\n",
       "      <td>v</td>\n",
       "      <td>d</td>\n",
       "    </tr>\n",
       "    <tr>\n",
       "      <th>5090</th>\n",
       "      <td>p</td>\n",
       "      <td>x</td>\n",
       "      <td>y</td>\n",
       "      <td>g</td>\n",
>>>>>>> 9450e0e4608de434bcea18082306024d45f21051
       "      <td>f</td>\n",
       "      <td>f</td>\n",
       "      <td>f</td>\n",
       "      <td>c</td>\n",
       "      <td>b</td>\n",
<<<<<<< HEAD
       "      <td>h</td>\n",
       "      <td>...</td>\n",
       "      <td>k</td>\n",
       "      <td>p</td>\n",
       "      <td>n</td>\n",
=======
       "      <td>g</td>\n",
       "      <td>...</td>\n",
       "      <td>k</td>\n",
       "      <td>b</td>\n",
       "      <td>b</td>\n",
>>>>>>> 9450e0e4608de434bcea18082306024d45f21051
       "      <td>p</td>\n",
       "      <td>w</td>\n",
       "      <td>o</td>\n",
       "      <td>l</td>\n",
       "      <td>h</td>\n",
       "      <td>v</td>\n",
<<<<<<< HEAD
       "      <td>g</td>\n",
       "    </tr>\n",
       "    <tr>\n",
       "      <th>664</th>\n",
       "      <td>e</td>\n",
       "      <td>b</td>\n",
       "      <td>s</td>\n",
       "      <td>w</td>\n",
=======
       "      <td>d</td>\n",
       "    </tr>\n",
       "    <tr>\n",
       "      <th>339</th>\n",
       "      <td>e</td>\n",
       "      <td>x</td>\n",
       "      <td>y</td>\n",
       "      <td>n</td>\n",
>>>>>>> 9450e0e4608de434bcea18082306024d45f21051
       "      <td>t</td>\n",
       "      <td>l</td>\n",
       "      <td>f</td>\n",
       "      <td>c</td>\n",
       "      <td>b</td>\n",
<<<<<<< HEAD
       "      <td>g</td>\n",
       "      <td>...</td>\n",
       "      <td>s</td>\n",
=======
       "      <td>n</td>\n",
       "      <td>...</td>\n",
       "      <td>y</td>\n",
>>>>>>> 9450e0e4608de434bcea18082306024d45f21051
       "      <td>w</td>\n",
       "      <td>w</td>\n",
       "      <td>p</td>\n",
       "      <td>w</td>\n",
       "      <td>o</td>\n",
       "      <td>p</td>\n",
<<<<<<< HEAD
       "      <td>n</td>\n",
       "      <td>s</td>\n",
       "      <td>g</td>\n",
       "    </tr>\n",
       "    <tr>\n",
       "      <th>3556</th>\n",
       "      <td>p</td>\n",
       "      <td>x</td>\n",
       "      <td>y</td>\n",
       "      <td>y</td>\n",
       "      <td>f</td>\n",
       "      <td>f</td>\n",
       "      <td>f</td>\n",
       "      <td>c</td>\n",
       "      <td>b</td>\n",
       "      <td>p</td>\n",
       "      <td>...</td>\n",
       "      <td>k</td>\n",
       "      <td>n</td>\n",
       "      <td>n</td>\n",
       "      <td>p</td>\n",
       "      <td>w</td>\n",
       "      <td>o</td>\n",
       "      <td>l</td>\n",
       "      <td>h</td>\n",
       "      <td>y</td>\n",
       "      <td>d</td>\n",
       "    </tr>\n",
       "    <tr>\n",
       "      <th>698</th>\n",
       "      <td>p</td>\n",
       "      <td>x</td>\n",
       "      <td>s</td>\n",
       "      <td>n</td>\n",
       "      <td>t</td>\n",
       "      <td>p</td>\n",
       "      <td>f</td>\n",
       "      <td>c</td>\n",
       "      <td>n</td>\n",
       "      <td>p</td>\n",
       "      <td>...</td>\n",
       "      <td>s</td>\n",
       "      <td>w</td>\n",
       "      <td>w</td>\n",
=======
       "      <td>k</td>\n",
       "      <td>y</td>\n",
       "      <td>g</td>\n",
       "    </tr>\n",
       "    <tr>\n",
       "      <th>6190</th>\n",
       "      <td>p</td>\n",
       "      <td>x</td>\n",
       "      <td>y</td>\n",
       "      <td>e</td>\n",
       "      <td>f</td>\n",
       "      <td>s</td>\n",
       "      <td>f</td>\n",
       "      <td>c</td>\n",
       "      <td>n</td>\n",
       "      <td>b</td>\n",
       "      <td>...</td>\n",
       "      <td>k</td>\n",
       "      <td>w</td>\n",
       "      <td>p</td>\n",
       "      <td>p</td>\n",
       "      <td>w</td>\n",
       "      <td>o</td>\n",
       "      <td>e</td>\n",
       "      <td>w</td>\n",
       "      <td>v</td>\n",
       "      <td>p</td>\n",
       "    </tr>\n",
       "    <tr>\n",
       "      <th>2644</th>\n",
       "      <td>e</td>\n",
       "      <td>x</td>\n",
       "      <td>y</td>\n",
       "      <td>n</td>\n",
       "      <td>t</td>\n",
       "      <td>n</td>\n",
       "      <td>f</td>\n",
       "      <td>c</td>\n",
       "      <td>b</td>\n",
       "      <td>w</td>\n",
       "      <td>...</td>\n",
       "      <td>s</td>\n",
       "      <td>p</td>\n",
       "      <td>p</td>\n",
>>>>>>> 9450e0e4608de434bcea18082306024d45f21051
       "      <td>p</td>\n",
       "      <td>w</td>\n",
       "      <td>o</td>\n",
       "      <td>p</td>\n",
       "      <td>n</td>\n",
<<<<<<< HEAD
       "      <td>v</td>\n",
       "      <td>u</td>\n",
=======
       "      <td>y</td>\n",
       "      <td>d</td>\n",
>>>>>>> 9450e0e4608de434bcea18082306024d45f21051
       "    </tr>\n",
       "  </tbody>\n",
       "</table>\n",
       "<p>5 rows × 23 columns</p>\n",
       "</div>"
      ],
      "text/plain": [
       "     edible cap-shape cap-surface cap-color bruises odor gill-attachment  \\\n",
<<<<<<< HEAD
       "7560      e         x           f         g       f    n               f   \n",
       "4400      p         x           f         y       f    f               f   \n",
       "664       e         b           s         w       t    l               f   \n",
       "3556      p         x           y         y       f    f               f   \n",
       "698       p         x           s         n       t    p               f   \n",
       "\n",
       "     gill-spacing gill-size gill-color  ... stalk-surface-below-ring  \\\n",
       "7560            w         b          w  ...                        s   \n",
       "4400            c         b          h  ...                        k   \n",
       "664             c         b          g  ...                        s   \n",
       "3556            c         b          p  ...                        k   \n",
       "698             c         n          p  ...                        s   \n",
       "\n",
       "     stalk-color-above-ring stalk-color-below-ring veil-type veil-color  \\\n",
       "7560                      w                      w         p          w   \n",
       "4400                      p                      n         p          w   \n",
       "664                       w                      w         p          w   \n",
       "3556                      n                      n         p          w   \n",
       "698                       w                      w         p          w   \n",
       "\n",
       "     ring-number ring-type spore-print-color population habitat  \n",
       "7560           t         p                 w          n       g  \n",
       "4400           o         l                 h          v       g  \n",
       "664            o         p                 n          s       g  \n",
       "3556           o         l                 h          y       d  \n",
       "698            o         p                 n          v       u  \n",
=======
       "5284      e         x           y         r       f    n               f   \n",
       "5090      p         x           y         g       f    f               f   \n",
       "339       e         x           y         n       t    l               f   \n",
       "6190      p         x           y         e       f    s               f   \n",
       "2644      e         x           y         n       t    n               f   \n",
       "\n",
       "     gill-spacing gill-size gill-color  ... stalk-surface-below-ring  \\\n",
       "5284            c         n          w  ...                        f   \n",
       "5090            c         b          g  ...                        k   \n",
       "339             c         b          n  ...                        y   \n",
       "6190            c         n          b  ...                        k   \n",
       "2644            c         b          w  ...                        s   \n",
       "\n",
       "     stalk-color-above-ring stalk-color-below-ring veil-type veil-color  \\\n",
       "5284                      w                      w         p          w   \n",
       "5090                      b                      b         p          w   \n",
       "339                       w                      w         p          w   \n",
       "6190                      w                      p         p          w   \n",
       "2644                      p                      p         p          w   \n",
       "\n",
       "     ring-number ring-type spore-print-color population habitat  \n",
       "5284           o         f                 h          v       d  \n",
       "5090           o         l                 h          v       d  \n",
       "339            o         p                 k          y       g  \n",
       "6190           o         e                 w          v       p  \n",
       "2644           o         p                 n          y       d  \n",
>>>>>>> 9450e0e4608de434bcea18082306024d45f21051
       "\n",
       "[5 rows x 23 columns]"
      ]
     },
     "execution_count": 4,
     "metadata": {},
     "output_type": "execute_result"
    }
   ],
   "source": [
    "df.head()"
   ]
  },
  {
   "cell_type": "code",
   "execution_count": 5,
   "metadata": {},
   "outputs": [
    {
     "data": {
      "text/plain": [
       "((95,),\n",
       " array([[0, 0, 0, ..., 0, 0, 0],\n",
<<<<<<< HEAD
       "        [0, 1, 0, ..., 0, 0, 1],\n",
       "        [0, 0, 1, ..., 0, 0, 0],\n",
       "        ...,\n",
       "        [0, 0, 1, ..., 1, 0, 0],\n",
       "        [0, 0, 0, ..., 0, 0, 0],\n",
=======
       "        [0, 1, 0, ..., 1, 0, 0],\n",
       "        [0, 0, 1, ..., 0, 0, 0],\n",
       "        ...,\n",
       "        [0, 0, 0, ..., 0, 0, 0],\n",
       "        [0, 1, 0, ..., 0, 0, 0],\n",
>>>>>>> 9450e0e4608de434bcea18082306024d45f21051
       "        [0, 1, 0, ..., 0, 0, 0]], dtype=uint8))"
      ]
     },
     "execution_count": 5,
     "metadata": {},
     "output_type": "execute_result"
    }
   ],
   "source": [
    "X=X.to_numpy()\n",
    "y=y.to_numpy()\n",
    "X_train=X_train1.to_numpy()\n",
    "y_train=y_train1.to_numpy()\n",
    "X_train[1,:].shape,X_train\n"
   ]
  },
  {
   "cell_type": "markdown",
   "metadata": {},
   "source": [
    "# random policy"
   ]
  },
  {
   "cell_type": "code",
<<<<<<< HEAD
   "execution_count": 6,
=======
   "execution_count": 20,
>>>>>>> 9450e0e4608de434bcea18082306024d45f21051
   "metadata": {},
   "outputs": [],
   "source": [
    "class random_policy():\n",
    "    def __init__(self):\n",
    "        pass\n",
    "    def choose_arm(self):\n",
    "        arm=np.random.choice(a=[0,1])\n",
    "        return arm\n"
   ]
  },
  {
   "cell_type": "code",
<<<<<<< HEAD
   "execution_count": 7,
=======
   "execution_count": 29,
>>>>>>> 9450e0e4608de434bcea18082306024d45f21051
   "metadata": {},
   "outputs": [
    {
     "data": {
      "text/plain": [
<<<<<<< HEAD
       "82780"
      ]
     },
     "execution_count": 7,
=======
       "79940"
      ]
     },
     "execution_count": 29,
>>>>>>> 9450e0e4608de434bcea18082306024d45f21051
     "metadata": {},
     "output_type": "execute_result"
    }
   ],
   "source": [
    "policy=random_policy()\n",
    "regret=0\n",
    "regret_cum=0\n",
    "random_policy_regret=[]\n",
    "for i in range(len(X)):\n",
    "    chosen_arm=policy.choose_arm()\n",
    "    if chosen_arm==y[i]:\n",
    "        ## right case:\n",
    "        regret=0\n",
    "    else:\n",
    "        regret=20\n",
    "    regret_cum+=regret\n",
    "    random_policy_regret.append(regret_cum)\n",
    "\n",
    "regret_cum "
   ]
  },
  {
   "cell_type": "code",
<<<<<<< HEAD
   "execution_count": 8,
=======
   "execution_count": 30,
>>>>>>> 9450e0e4608de434bcea18082306024d45f21051
   "metadata": {},
   "outputs": [
    {
     "data": {
      "text/plain": [
<<<<<<< HEAD
       "[<matplotlib.lines.Line2D at 0x7f16fbb44d90>]"
      ]
     },
     "execution_count": 8,
=======
       "[<matplotlib.lines.Line2D at 0x7fd4ac240940>]"
      ]
     },
     "execution_count": 30,
>>>>>>> 9450e0e4608de434bcea18082306024d45f21051
     "metadata": {},
     "output_type": "execute_result"
    },
    {
     "data": {
<<<<<<< HEAD
      "image/png": "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",
=======
      "image/png": "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",
>>>>>>> 9450e0e4608de434bcea18082306024d45f21051
      "text/plain": [
       "<Figure size 576x396 with 1 Axes>"
      ]
     },
     "metadata": {},
     "output_type": "display_data"
    }
   ],
   "source": [
    "plt.plot(random_policy_regret)"
   ]
  },
  {
   "cell_type": "markdown",
   "metadata": {},
   "source": [
    "# LinUCB\n"
   ]
  },
  {
   "cell_type": "code",
<<<<<<< HEAD
   "execution_count": 9,
=======
   "execution_count": 31,
>>>>>>> 9450e0e4608de434bcea18082306024d45f21051
   "metadata": {},
   "outputs": [],
   "source": [
    "# Create class object for a single linear ucb disjoint arm\n",
    "class linucb_disjoint_arm():\n",
    "    \n",
    "    def __init__(self, arm_index, d, alpha):\n",
    "        \n",
    "        # Track arm index\n",
    "        self.arm_index = arm_index\n",
    "        \n",
    "        # Keep track of alpha\n",
    "        self.alpha = alpha\n",
    "        \n",
    "        # A: (d x d) matrix = D_a.T * D_a + I_d. \n",
    "        # The inverse of A is used in ridge regression \n",
    "        self.A = np.identity(d)\n",
    "        \n",
    "        # b: (d x 1) corresponding response vector. \n",
    "        # Equals to D_a.T * c_a in ridge regression formulation\n",
    "        self.b = np.zeros([d,1])\n",
    "        \n",
    "    def calc_UCB(self, x_array):\n",
    "        # Find A inverse for ridge regression\n",
    "        A_inv = np.linalg.inv(self.A)\n",
    "        \n",
    "        # Perform ridge regression to obtain estimate of covariate coefficients theta\n",
    "        # theta is (d x 1) dimension vector\n",
    "        self.theta = np.dot(A_inv, self.b)\n",
    "        \n",
    "        # Reshape covariates input into (d x 1) shape vector\n",
    "        x = x_array.reshape([-1,1])\n",
    "        \n",
    "        # Find ucb based on p formulation (mean + std_dev) \n",
    "        # p is (1 x 1) dimension vector\n",
    "        p = np.dot(self.theta.T,x) +  self.alpha * np.sqrt(np.dot(x.T, np.dot(A_inv,x)))\n",
    "        \n",
    "        return p\n",
    "    \n",
    "    def reward_update(self, reward, x_array):\n",
    "        # Reshape covariates input into (d x 1) shape vector\n",
    "        x = x_array.reshape([-1,1])\n",
    "        \n",
    "        \n",
    "        # Update A which is (d * d) matrix.\n",
    "        self.A += np.dot(x, x.T)\n",
    "        \n",
    "        # Update b which is (d x 1) vector\n",
    "        # reward is scalar\n",
    "        self.b += reward * x"
   ]
  },
  {
   "cell_type": "code",
<<<<<<< HEAD
   "execution_count": 10,
=======
   "execution_count": 41,
>>>>>>> 9450e0e4608de434bcea18082306024d45f21051
   "metadata": {},
   "outputs": [],
   "source": [
    "class linucb_policy():\n",
    "    \n",
    "    def __init__(self, K_arms, d, alpha):\n",
    "        self.K_arms = K_arms\n",
    "        self.linucb_arms = [linucb_disjoint_arm(arm_index = i, d = d, alpha = alpha) for i in range(K_arms)]\n",
    "        \n",
    "    def select_arm(self, x_array):\n",
    "        # Initiate ucb to be 0\n",
    "        highest_ucb = -100\n",
    "        \n",
    "        # Track index of arms to be selected on if they have the max UCB.\n",
    "        candidate_arms = []\n",
    "        \n",
    "        for arm_index in range(self.K_arms):\n",
    "            # Calculate ucb based on each arm using current covariates at time t\n",
    "            arm_ucb = self.linucb_arms[arm_index].calc_UCB(x_array)\n",
    "            \n",
    "            # If current arm is highest than current highest_ucb\n",
    "            if arm_ucb > highest_ucb:\n",
    "                \n",
    "                # Set new max ucb\n",
    "                highest_ucb = arm_ucb\n",
    "                \n",
    "                # Reset candidate_arms list with new entry based on current arm\n",
    "                candidate_arms = [arm_index]\n",
    "\n",
    "            # If there is a tie, append to candidate_arms\n",
    "            if arm_ucb == highest_ucb:\n",
    "                \n",
    "                candidate_arms.append(arm_index)\n",
    "        \n",
    "        # Choose based on candidate_arms randomly (tie breaker)\n",
    "        chosen_arm = np.random.choice(candidate_arms)\n",
    "        \n",
    "        return chosen_arm"
   ]
  },
  {
   "cell_type": "code",
<<<<<<< HEAD
   "execution_count": 11,
   "metadata": {
    "vscode": {
     "languageId": "ruby"
    }
   },
   "outputs": [],
   "source": [
    "def Simulator(K_arms, d, alpha, X,y):\n",
=======
   "execution_count": 42,
   "metadata": {},
   "outputs": [],
   "source": [
    "def simulator(K_arms, d, alpha, X,y):\n",
>>>>>>> 9450e0e4608de434bcea18082306024d45f21051
    "    # Initiate policy\n",
    "    linucb_policy_object = linucb_policy(K_arms = K_arms, d = d, alpha = alpha)\n",
    "    \n",
    "    # Instantiate trackers\n",
    "    cumulative_rewards = 0\n",
    "    deploy_reward=0\n",
    "    learning_results = []\n",
    "    deploy_results = []\n",
    "    # just the counter\n",
    "    counter1=0\n",
    "    counter2=0\n",
    "\n",
<<<<<<< HEAD
    "    regret=0\n",
    "    regret_cum=0\n",
    "    LinUCB_regret=[]\n",
    "\n",
=======
>>>>>>> 9450e0e4608de434bcea18082306024d45f21051
    "    # the result of deploying\n",
    "    general_result = []\n",
    "    # scores of deploy and learn highest is up to 10\n",
    "    score1=[]\n",
    "    score2=[]\n",
    "\n",
    "    # list of wrong classification\n",
    "    error_array=[]\n",
    "    error=0\n",
    "    \n",
    "    i=0\n",
    "\n",
    "    for i in tqdm(range(X.shape[0])):\n",
    "\n",
    "        data_x_array=X[i]\n",
    "        data_label = y[i]\n",
    "        # Find policy's chosen arm based on input covariates at current time step\n",
    "        arm_index = linucb_policy_object.select_arm(data_x_array)\n",
<<<<<<< HEAD
    "        \n",
=======
>>>>>>> 9450e0e4608de434bcea18082306024d45f21051
    "\n",
    "        if arm_index==data_label:\n",
    "        # reward of right\n",
    "            reward=10\n",
    "        else:\n",
    "        # reward of wrong\n",
    "            reward=-10\n",
<<<<<<< HEAD
    "        regret=10-reward\n",
    "        regret_cum+=regret\n",
    "        LinUCB_regret.append(regret_cum)\n",
    "        \n",
    "        linucb_policy_object.linucb_arms[arm_index].reward_update(reward, data_x_array)\n",
    "\n",
    "        # 50% data is used for learning and 50% deploying \n",
    "        # if np.random.random()<0.5:\n",
    "        #     counter1 += 1\n",
    "        #     cumulative_rewards += reward\n",
    "        #     linucb_policy_object.linucb_arms[arm_index].reward_update(reward, data_x_array)\n",
    "        #     learning_results.append(cumulative_rewards)\n",
    "        #     score1.append(cumulative_rewards/counter1)\n",
    "        # else:\n",
    "        #     counter2 += 1\n",
    "        #     deploy_reward += reward\n",
    "        #     deploy_results.append(deploy_reward)\n",
    "        #     general_result.append([data_label,arm_index])\n",
    "        #     score2.append(deploy_reward/counter2)\n",
    "        #     if arm_index!=data_label:\n",
    "        #         error+=1\n",
    "        #     error_array.append(error)\n",
    "    return LinUCB_regret"
=======
    "            \n",
    "\n",
    "        # 50% data is used for learning and 50% deploying \n",
    "        if np.random.random()<0.5:\n",
    "            counter1 += 1\n",
    "            cumulative_rewards += reward\n",
    "            linucb_policy_object.linucb_arms[arm_index].reward_update(reward, data_x_array)\n",
    "            learning_results.append(cumulative_rewards)\n",
    "            score1.append(cumulative_rewards/counter1)\n",
    "        else:\n",
    "            counter2 += 1\n",
    "            deploy_reward += reward\n",
    "            deploy_results.append(deploy_reward)\n",
    "            general_result.append([data_label,arm_index])\n",
    "            score2.append(deploy_reward/counter2)\n",
    "            if arm_index!=data_label:\n",
    "                error+=1\n",
    "            error_array.append(error)\n",
    "    return (learning_results,deploy_results,general_result,score1,score2,error_array)"
>>>>>>> 9450e0e4608de434bcea18082306024d45f21051
   ]
  },
  {
   "cell_type": "code",
<<<<<<< HEAD
   "execution_count": 12,
=======
   "execution_count": 43,
>>>>>>> 9450e0e4608de434bcea18082306024d45f21051
   "metadata": {},
   "outputs": [
    {
     "name": "stderr",
     "output_type": "stream",
     "text": [
<<<<<<< HEAD
      "100%|██████████| 8124/8124 [01:50<00:00, 73.29it/s] \n"
=======
      "100%|██████████| 8124/8124 [01:41<00:00, 79.96it/s] \n"
>>>>>>> 9450e0e4608de434bcea18082306024d45f21051
     ]
    }
   ],
   "source": [
    "epliso=0.1\n",
    "alpha_input = 1+np.sqrt(np.log(2/epliso)/2)\n",
<<<<<<< HEAD
    "LinUCB_regret = Simulator(K_arms = 2, d = 95, alpha = alpha_input,X=X,y=y)"
=======
    "learning_results, deploy_results, general_result, score1, score2,error_array = simulator(K_arms = 2, d = 95, alpha = alpha_input,X=X,y=y)"
>>>>>>> 9450e0e4608de434bcea18082306024d45f21051
   ]
  },
  {
   "cell_type": "code",
<<<<<<< HEAD
   "execution_count": 14,
=======
   "execution_count": 56,
>>>>>>> 9450e0e4608de434bcea18082306024d45f21051
   "metadata": {},
   "outputs": [
    {
     "data": {
      "text/plain": [
<<<<<<< HEAD
       "[<matplotlib.lines.Line2D at 0x7f16f8c23dc0>]"
      ]
     },
     "execution_count": 14,
     "metadata": {},
     "output_type": "execute_result"
    },
    {
     "data": {
      "image/png": "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",
      "text/plain": [
       "<Figure size 576x396 with 1 Axes>"
      ]
     },
     "metadata": {},
     "output_type": "display_data"
    }
   ],
   "source": [
    "plt.plot(LinUCB_regret)"
   ]
  },
  {
   "cell_type": "markdown",
   "metadata": {},
   "source": [
    "# Thompson Sampling"
=======
       "array([[-7.11970794],\n",
       "       [10.00261983],\n",
       "       [-7.53043026],\n",
       "       [-7.32384579],\n",
       "       [ 9.97234564]])"
      ]
     },
     "execution_count": 56,
     "metadata": {},
     "output_type": "execute_result"
    }
   ],
   "source": [
    "s=np.dot(X[0:5],q)\n",
    "s"
   ]
  },
  {
   "cell_type": "code",
   "execution_count": 55,
   "metadata": {},
   "outputs": [
    {
     "data": {
      "text/plain": [
       "array([0, 1, 0, 0, 1], dtype=int8)"
      ]
     },
     "execution_count": 55,
     "metadata": {},
     "output_type": "execute_result"
    }
   ],
   "source": [
    "y[0:5]"
>>>>>>> 9450e0e4608de434bcea18082306024d45f21051
   ]
  },
  {
   "cell_type": "code",
<<<<<<< HEAD
   "execution_count": 17,
   "metadata": {},
   "outputs": [],
   "source": [
    "# Create class object for a single linear ucb disjoint arm\n",
    "class linucb_disjoint_arm():\n",
    "    \n",
    "    def __init__(self, arm_index, d, alpha):\n",
    "        \n",
    "        # Track arm index\n",
    "        self.arm_index = arm_index\n",
    "        \n",
    "        # Keep track of alpha\n",
    "        self.alpha = alpha\n",
    "        \n",
    "        # A: (d x d) matrix = D_a.T * D_a + I_d. \n",
    "        # The inverse of A is used in ridge regression \n",
    "        self.A = np.identity(d)\n",
    "        \n",
    "        # b: (d x 1) corresponding response vector. \n",
    "        # Equals to D_a.T * c_a in ridge regression formulation\n",
    "        self.b = np.zeros([d,1])\n",
    "        \n",
    "    def calc_UCB(self, x_array):\n",
    "        # Find A inverse for ridge regression\n",
    "        A_inv = np.linalg.inv(self.A)\n",
    "        \n",
    "        # Perform ridge regression to obtain estimate of covariate coefficients theta\n",
    "        # theta is (d x 1) dimension vector\n",
    "        self.theta = np.dot(A_inv, self.b)\n",
    "        \n",
    "        # Reshape covariates input into (d x 1) shape vector\n",
    "        x = x_array.reshape([-1,1])\n",
    "        \n",
    "        # Find ucb based on p formulation (mean + std_dev) \n",
    "        # p is (1 x 1) dimension vector\n",
    "        p = np.dot(self.theta.T,x)\n",
    "        \n",
    "        return p\n",
    "    \n",
    "    def reward_update(self, reward, x_array):\n",
    "        # Reshape covariates input into (d x 1) shape vector\n",
    "        x = x_array.reshape([-1,1])\n",
    "        \n",
    "        \n",
    "        # Update A which is (d * d) matrix.\n",
    "        self.A += np.dot(x, x.T)\n",
    "        \n",
    "        # Update b which is (d x 1) vector\n",
    "        # reward is scalar\n",
    "        self.b += reward * x"
   ]
  },
  {
   "cell_type": "code",
   "execution_count": 19,
   "metadata": {},
   "outputs": [],
   "source": [
    "class linucb_policy():\n",
    "    \n",
    "    def __init__(self, K_arms, d, alpha):\n",
    "        self.K_arms = K_arms\n",
    "        self.linucb_arms = [linucb_disjoint_arm(arm_index = i, d = d, alpha = alpha) for i in range(K_arms)]\n",
    "        \n",
    "    def select_arm(self, x_array):\n",
    "        # Initiate ucb to be 0\n",
    "        highest_ucb = -100\n",
    "        \n",
    "        # Track index of arms to be selected on if they have the max UCB.\n",
    "        candidate_arms = []\n",
    "        \n",
    "        for arm_index in range(self.K_arms):\n",
    "            # Calculate ucb based on each arm using current covariates at time t\n",
    "            arm_ucb = self.linucb_arms[arm_index].calc_UCB(x_array)\n",
    "            \n",
    "            # If current arm is highest than current highest_ucb\n",
    "            if arm_ucb > highest_ucb:\n",
    "                \n",
    "                # Set new max ucb\n",
    "                highest_ucb = arm_ucb\n",
    "                \n",
    "                # Reset candidate_arms list with new entry based on current arm\n",
    "                candidate_arms = [arm_index]\n",
    "\n",
    "            # If there is a tie, append to candidate_arms\n",
    "            if arm_ucb == highest_ucb:\n",
    "                \n",
    "                candidate_arms.append(arm_index)\n",
    "        \n",
    "        # Choose based on candidate_arms randomly (tie breaker)\n",
    "        chosen_arm = np.random.choice(candidate_arms)\n",
    "        \n",
    "        return chosen_arm"
=======
   "execution_count": null,
   "metadata": {},
   "outputs": [],
   "source": []
  },
  {
   "cell_type": "code",
   "execution_count": 44,
   "metadata": {},
   "outputs": [
    {
     "data": {
      "text/plain": [
       "2.2238734153404085"
      ]
     },
     "execution_count": 44,
     "metadata": {},
     "output_type": "execute_result"
    }
   ],
   "source": [
    "alpha_input"
>>>>>>> 9450e0e4608de434bcea18082306024d45f21051
   ]
  },
  {
   "cell_type": "code",
<<<<<<< HEAD
   "execution_count": 20,
   "metadata": {},
   "outputs": [],
   "source": [
    "def simulator(K_arms, d, alpha, X,y):\n",
    "    # Initiate policy\n",
    "    linucb_policy_object = linucb_policy(K_arms = K_arms, d = d, alpha = alpha)\n",
    "    \n",
    "    # Instantiate trackers\n",
    "    cumulative_rewards = 0\n",
    "    deploy_reward=0\n",
    "    learning_results = []\n",
    "    deploy_results = []\n",
    "    # just the counter\n",
    "    counter1=0\n",
    "    counter2=0\n",
    "\n",
    "    regret=0\n",
    "    regret_cum=0\n",
    "    LinUCB_regret=[]\n",
    "\n",
    "    # the result of deploying\n",
    "    general_result = []\n",
    "    # scores of deploy and learn highest is up to 10\n",
    "    score1=[]\n",
    "    score2=[]\n",
    "\n",
    "    # list of wrong classification\n",
    "    error_array=[]\n",
    "    error=0\n",
    "    \n",
    "    i=0\n",
    "\n",
    "    for i in tqdm(range(X.shape[0])):\n",
    "\n",
    "        data_x_array=X[i]\n",
    "        data_label = y[i]\n",
    "        # Find policy's chosen arm based on input covariates at current time step\n",
    "        arm_index = linucb_policy_object.select_arm(data_x_array)\n",
    "\n",
    "        if arm_index==data_label:\n",
    "        # reward of right\n",
    "            reward=10\n",
    "        else:\n",
    "        # reward of wrong\n",
    "            reward=-10\n",
    "        \n",
    "        regret=10-reward\n",
    "        regret_cum+=regret\n",
    "        LinUCB_regret.append(regret_cum)\n",
    "        linucb_policy_object.linucb_arms[arm_index].reward_update(reward, data_x_array)\n",
    "\n",
    "        # 50% data is used for learning and 50% deploying \n",
    "        # if np.random.random()<0.5:\n",
    "        #     counter1 += 1\n",
    "        #     cumulative_rewards += reward\n",
    "        #     linucb_policy_object.linucb_arms[arm_index].reward_update(reward, data_x_array)\n",
    "        #     learning_results.append(cumulative_rewards)\n",
    "        #     score1.append(cumulative_rewards/counter1)\n",
    "        # else:\n",
    "        #     counter2 += 1\n",
    "        #     deploy_reward += reward\n",
    "        #     deploy_results.append(deploy_reward)\n",
    "        #     general_result.append([data_label,arm_index])\n",
    "        #     score2.append(deploy_reward/counter2)\n",
    "        #     if arm_index!=data_label:\n",
    "        #         error+=1\n",
    "        #     error_array.append(error)\n",
    "    return LinUCB_regret"
=======
   "execution_count": 41,
   "metadata": {},
   "outputs": [
    {
     "data": {
      "text/plain": [
       "Text(0.5, 1.0, 'reward of learnig process')"
      ]
     },
     "execution_count": 41,
     "metadata": {},
     "output_type": "execute_result"
    },
    {
     "data": {
      "image/png": "iVBORw0KGgoAAAANSUhEUgAAAe8AAAFZCAYAAACxGqelAAAABHNCSVQICAgIfAhkiAAAAAlwSFlzAAALEgAACxIB0t1+/AAAADh0RVh0U29mdHdhcmUAbWF0cGxvdGxpYiB2ZXJzaW9uMy4yLjEsIGh0dHA6Ly9tYXRwbG90bGliLm9yZy+j8jraAAAgAElEQVR4nOzdeWBU5b3/8fdMMpMFEkhChn0LSzIgCSCLBJHNsISouMAFihuh1evSeuWnctOKUK+F2tLrtXKrLatahYrUIiDgEhBKRDGKLAn7EgIkmZCQPZnMnN8fXlNRlogJs+Tz+is5OXPm+81APvOc58x5TIZhGIiIiIjPMHu6ABEREflhFN4iIiI+RuEtIiLiYxTeIiIiPkbhLSIi4mMU3iIiIj5G4S3i5Xr16sWpU6fqvb/L5eKee+5h1KhRHDhw4IKfzZ49m//93/9t6BIv6sknn+Sjjz66Js8l0tQEeroAEWlY+fn5fPbZZ3z11VdYLBaP1fH888977LlF/J1G3iIXcerUKW688UZ+85vfMH36dAA+//xz7rzzTpKSkpg8eTI5OTmcPHmSm266qe5xzzzzDFOmTKn7/sEHH2Tz5s0cPXqUqVOnMn78eJKSkli3bl3dPrGxsbzyyiuMHTsWl8vF1q1bSUpKYvz48SxevPiSNWZnZzNlyhTGjRvHbbfdxrZt23C5XNx999243W5uueUWsrOzL/n4w4cPM336dMaOHcstt9zCnj176n62aNEixo4dy80338wDDzxASUkJAH/84x/51a9+xV133cXy5ctZs2YNP//5z0lLS2Ps2LEkJydz6NAhAO6++27+8Y9/ALBmzRqGDh3Krbfeypo1a4iNjb3o77x///4sXryYlJQUbrzxRj744IO6xz/yyCPce++9dW8KXn31VZKTkxk3bhz//u//zrlz5wA4d+4cDz74IKNHj+aWW25h+/btAJSUlPDEE08wduxYRo8ezdtvv1333P/93//N2LFjGTt2LPfccw95eXmX3S7icYaIfE9OTo7Ru3dvY82aNYZhGEZpaakxcOBAY/v27YZhGMa7775r3H777YZhGMbw4cON06dPG4ZhGHfeeadxxx13GNXV1Ybb7TYGDx5sFBcXGw888IDxyiuvGIZhGJ9++qkRHx9v1NTUGIZhGD179jT+9Kc/GYZhGLW1tcbQoUONbdu2GYZhGEuWLDF69uxp5OTkXFCfy+Uyxo8fb7z77ruGYRjGV199ZQwcONAoLS01cnJyDLvdftG+nnrqKWPRokWGy+UyxowZY/ztb38zDMMwdu3aZdx4442G0+k09uzZYwwZMsQoLS01XC6Xcd999xmLFi0yDMMwXnzxRePGG280CgsLDcMwjLfffttISEgw9uzZYxiGYcydO9f45S9/aRiGYUyfPt145513jKKiIiM+Pt44cOCA4XK5jP/4j/8wevbsedHfec+ePY3FixcbhmEY//znP43BgwcbTqfTePvtt42+ffsax44dMwzDML744gvjpptuMhwOh2EYhvHrX//aSEtLMwzDMNLS0oznn3/eMAzD2LdvnzFo0CCjurra+M///E/jySefNFwul1FYWGgMHz7cOHDggHHw4EFjzJgxda/Hq6++avz973+/5HYRb6CRt8glOJ1OkpKSgK9H3a1bt2bo0KEApKSkcPLkSU6fPs3gwYP54osvKCoqIigoCLvdzp49ezh8+DDt2rWjRYsW/O///i+pqakAXH/99VRXV1NQUFD3XCNGjADg+PHj1NTUcOONNwJw++23X7S2U6dO4XA4mDBhAgB9+vShXbt2F4yeL+fo0aMUFhZy11131dUUGRnJF198wXXXXceWLVto3rw5ZrOZfv36kZOTU/fYhIQEIiMj677v1q0b1113HfD1/PyZM2cueK7du3fTpUsXevbsidlsZurUqZet7ZuaEhMTqa2t5cSJEwB06dKFLl26ALBlyxbGjh1LVFQUAJMmTeKf//wnAFu3biUlJaWung8//BCr1Up6ejr33HMPZrOZyMhIkpKS2Lx5M+Hh4Zw7d453332X8+fPc/fddzNx4sRLbhfxBprzFrmEgIAAmjdvDnx9yjUnJ4dx48bV/dxqtXLu3DkGDx7Ml19+idVqpW/fvnTt2pXMzEyaN2/OkCFDANi2bRt/+tOfKCoqwmQyYRgGbre77lgtW7YE4Pz583XPCdCiRYuL1nbu3DnCwsIwmUx1274Jm44dO16xt5KSEqqqqhg/fnzdtrKyMoqLi6msrGT+/Pns3LmzrqZv3lxcrKawsLALfmcul+t7z/Xtx7Ru3fqSdZlMpgv2DQ8P5/z589973nPnzmGz2S7Yr7CwEIDi4uILavrm91laWspjjz1GQEAAANXV1YwbN47WrVvzxz/+kaVLl/Lss88ycOBA5s2bR9u2bS+5XcTTFN4i9WCz2YiJiWHNmjXf+1lERAQrV67EbDYzcOBAunTpwu9//3uaNWvGxIkTcTqdPPbYY7zwwgsMHz6cmpoa4uPjL/o8LVq0oKysrO77b+ZxvysqKorz589jGEZdgBcXF9eNROvTT7Nmzdi4ceP3fvbyyy9z/Phx1qxZQ7Nmzfjv//7vHzXX27x5cyoqKuq+z8/Pv+S+hmFQVFREREQE8PUbh4u9gWnVqhXFxcV13xcXF9OqVSvg6zdCRUVFdOjQAfj6LEXr1q2x2WwsWrSInj17fu94N9xwAzfccAMVFRX89re/5fe//z0LFy685HYRT9Npc5F6SEhIoKCggN27dwOQk5PDE088gWEYtG/fnpKSEnbu3Em/fv2IiYnh+PHj7Nu3j+uvv57KykoqKirqTi2vWLECi8VyQaB9o1OnTgQEBNSNetesWXPB6PobHTp0oE2bNmzYsAGAzMxMHA7HJd8UfFf79u1p06ZNXXifO3eOxx9/nIqKCgoLC4mJiaFZs2bk5uaydevWi9ZaX7179+bAgQOcOHECt9vN6tWrL7v/Nxfzbd++neDgYLp27fq9fUaMGMH7779PUVERACtXrmT48OEAjBo1ir///e/A1xfl3XHHHbhcLkaNGsXKlSsBqK2t5Te/+Q379u1j+/btzJs3D7fbTWhoKHFxcZhMpktuF/EGGnmL1ENwcDAvvvgizz77LOXl5VgsFn7xi1/U/THv378/mZmZdXPBHTt2pLKykpCQEEJCQpg5cyYTJ04kKiqKf//3f+fmm2/mwQcfvOCqcwCLxcKzzz5LWloaVquVO+64g9DQ0O/VYzKZ+MMf/sAzzzzDSy+9REhICP/zP/9DaGjoJUfrF3v83LlzeeGFFzCbzdx///2EhoYyZcoUfv7znzN27FhiY2OZPXs2jz76KMuXL7+q353NZuPxxx/nnnvuoVWrVkyZMqUuXL8rICAAp9PJhAkTOH/+PP/1X/+F2fz9MUZ8fDw/+9nP+MlPfoLb7cZutzN37lwAnnjiCZ566ilGjRpFs2bN+P3vf09wcDCPPfYY8+bNY+zYsQAMGzaM2NhYXC4X69evZ+zYsVitViIjI/nNb36DzWa76HYRb2AyDK3nLSKN69un9w8dOsS0adP47LPPLtjn1KlTjBkzhv3793uiRBGfotPmItKoamtrGTZsWN2Uw4YNG+jbt6+HqxLxbTptLiKNKjAwkGeeeYannnoKwzCIjo7mueee83RZIj5Np81FRER8jE6bi4iI+BiFt4iIiI/xmTnvgoLSBj9mREQoRUVX//lVb6E+vIc/9ADqw9uoD+9yLfuIjg676PYmPfIODAzwdAkNQn14D3/oAdSHt1Ef3sUb+mjS4S0iIuKLFN4iIiI+RuEtIiLiYxTeIiIiPkbhLSIi4mMU3iIiIj5G4S0iIuJjFN4iIiI+pl7hXVVVxc0338yaNWs4c+YMd999N9OmTeMXv/gFNTU1AKxdu5Y777yTSZMm8dZbbwHgdDqZNWsWU6dOZfr06eTk5ACQnZ3NlClTmDJlCs8880wjtSYiIuKf6hXef/rTn2jRogUAL774ItOmTeONN96gc+fOrF69moqKChYtWsTy5ct57bXXWLFiBcXFxaxbt47w8HDefPNNHnzwQRYuXAjAc889R1paGitXrqSsrIytW7c2XociIiJ+5orhfeTIEQ4fPsyIESMA2LlzJ6NHjwZg5MiRZGRksHv3bvr06UNYWBjBwcH079+fzMxMMjIySEpKAiAxMZHMzExqamrIzc0lPj7+gmOIiIj4qvNl1ezYe4Zal/uaPN8VFyb57W9/y9NPP80777wDQGVlJVarFYCoqCgKCgpwOBxERkbWPSYyMvJ7281mMyaTCYfDQXh4eN2+3xzjSiIiQhvlfrKXuum7r1Ef3sMfegD14W3Uh3f5dh/bvszlT2/vprTCSe/uNrq3afweLxve77zzDn379qVjx44X/blhGD96+6X2/a7GWMElOjqsUVYru9bUh/fwhx5AfXgb9eFdvumjrNLJ65sP8GlWPtZAMz9J6kl4kLlBe7zUm53LhveWLVvIyclhy5YtnD17FqvVSmhoKFVVVQQHB5OXl4fNZsNms+FwOOoel5+fT9++fbHZbBQUFBAXF4fT6cQwDKKjoykuLq7b95tjiIiI+IovDztY8V4258tr6NY+nJkTetE6MvSaPf9lw/uFF16o+/qPf/wj7du354svvmDTpk3cdtttbN68mWHDhpGQkMCvfvUrSkpKCAgIIDMzk7S0NMrKyti4cSPDhg0jPT2dwYMHY7FYiImJYdeuXQwYMIDNmzdz9913N3qjIiIiP1ZldS0vrvqC9z89SWCAiUkjujF2UCfMZtM1reOKc97f9eijj/LUU0+xatUq2rVrx8SJE7FYLMyaNYvU1FRMJhMPP/wwYWFhJCcns2PHDqZOnYrVamXBggUApKWlMWfOHNxuNwkJCSQmJjZ4YyIiIg0p6/g5lm7IorCkmk6tmzMzpRcdopt7pBaTUd9JZw9rjHkSf5t/8XX+0Ic/9ADqw9uoD8+qdrpYveUIH35+CrPJxOSbezKqb1sCAxr/PmdXNectIiLSlB0+dZ4l6/eTV1RJ26hQZqb0YlB8e4+/CVF4i4iIfIez1s0724+ycedJMGDcoE7cflNXLI3wkeWrofAWERH5lhNnS1m8fj+5BeVEtwwmdUIvenZs6emyLqDwFhERAWpdbjZ8coJ3/3kcl9tgZL/2TBrZjWCr90Wl91UkIiJyjeU6ylmybj/Hz5YSERbE/clxXNc1ytNlXZLCW0REmiy322DzZzms+fgotS43Q69rw9SbexAabPF0aZel8BYRkSYpv6iCpeuzOHjqPOGhFu4Z15v+PaM9XVa9KLxFRKRJMQyDLV+e5m8fHaba6eL62GjuHhtLeKjV06XVm8JbRESajHMlVSx7L5t9x87RLDiQe8f3YrC9NSbTtb296Y+l8BYREb9nGAY79p7ljQ8OUVldS5+YKO4bH0dEWJCnS7sqCm8REfFr58treHVjNl8cchBkDeC+8XEMi2/rc6Ptb1N4i4iI39qVnc+rmw5QVukkrlNLZiTbadUyxNNl/WgKbxER8TvlVU7+uvkgn+zPwxJoZuroHowe0AGzD4+2v03hLSIifuWrI4Usfy+L4rIaYtqFkzrBTtuoZp4uq0EpvEVExC9UVtey6qPDfLz7NAFmE3cOj2Hc4E4EmBt/6c5rTeEtIiI+L/tEEUs3ZOE4X0VHW3NmpvSio625p8tqNApvERHxWTVOF6u3HuGDXacwmSAlsTO3Du1KYID/jba/TeEtIiI+6cjp8yxZl8XZcxW0iQwlNcVOt3YtPF3WNaHwFhERn1LrcvOP7cfY8MkJMGDMwI7ccVMMVkuAp0u7ZhTeIiLiM07mlbJ4XRanCspo1SKY1Al2YjtFeLqsa07hLSIiXs/ldrPhk5Os3X4Ml9tgeN92TB7ZnZCgphljTbNrERHxGWcKy1m8LotjZ0po2dzK/cl2+sREebosj1J4i4iIV3IbBh/sOsXbW4/grHUzpHdrpiX1pFmwxdOleZzCW0REvE5BcSVL12dxIKeYsFALP7ulF9fH2jxdltdQeIuIiNcwDIOPd59m5UeHqa5x0a9HK+4dF0d4M6unS/MqVwzvyspKZs+eTWFhIdXV1Tz00ENs2rSJffv20bJlSwBSU1MZMWIEa9euZcWKFZjNZiZPnsykSZNwOp3Mnj2b06dPExAQwPz58+nYsSPZ2dnMnTsXgNjYWObNm9eojYqIiHcrKq1m2XtZ7D16jpCgQH6a0osberf26aU7G8sVwzs9PZ3rrruOn/70p+Tm5jJjxgz69evH448/zsiRI+v2q6ioYNGiRaxevRqLxcJdd91FUlIS6enphIeHs3DhQrZv387ChQt54YUXeO6550hLSyM+Pp5Zs2axdetWhg8f3qjNioiI9zEMg0/25/HXzQepqK6ld9dI7h8fR2R4sKdL81pXDO/k5OS6r8+cOUPr1q0vut/u3bvp06cPYWFhAPTv35/MzEwyMjKYOHEiAImJiaSlpVFTU0Nubi7x8fEAjBw5koyMDIW3iEgTc9pRzsv/2MupgnKCLAHcMzaW4X3babR9BfWe854yZQpnz57l5ZdfZvny5bz++ussW7aMqKgonn76aRwOB5GRkXX7R0ZGUlBQcMF2s9mMyWTC4XAQHh5et29UVBQFBQWXff6IiFACAxv+7jnR0WENfkxPUB/ewx96APXhbfytD5fb4N1tR3h1QxbOWje9Y6J4bEo/2vjI0p2efj3qHd4rV64kKyuLJ554grS0NFq2bIndbufPf/4zL730Ev369btgf8MwLnqci22/1L7fVlRUUd9S6y06OoyCgtIGP+61pj68hz/0AOrD2/hbH/nFlSxdt5+Dp84THmrh7jGxDO3TBpPb7RN9XsvX41JvEq647MrevXs5c+YMAHa7HZfLRc+ePbHb7QCMGjWKgwcPYrPZcDgcdY/Lz8/HZrNhs9nqRtVOpxPDMIiOjqa4uLhu37y8PGw2fQRARMSfGYbBli9yeWbJpxw8dZ7re0bz65mDuTG+rU6T/0BXDO9du3axdOlSABwOBxUVFcyZM4ecnBwAdu7cSY8ePUhISGDPnj2UlJRQXl5OZmYmAwYMYOjQoWzcuBH4+uK3wYMHY7FYiImJYdeuXQBs3ryZYcOGNVaPIiLiYedKqnjmzxm8uukAAWYTP7ulFw/dfh3hofoI2NW44mnzKVOm8Mtf/pJp06ZRVVXFnDlzCA0N5bHHHiMkJITQ0FDmz59PcHAws2bNIjU1FZPJxMMPP0xYWBjJycns2LGDqVOnYrVaWbBgAQBpaWnMmTMHt9tNQkICiYmJjd6siIhcW4ZhkLHvLH99/xCV1bX0iYnivvFxRIQFebo0n2Yy6jPh7AUaY37B3+aRfJ0/9OEPPYD68Da+2kdJeQ2vbjpA5sECgqwB/PS2PvSLifD5U+TeMOetO6yJiEiD+/xAPis2HqCs0klsx5bMmGCnVw+bT74J8UYKbxERaTDlVU7++v5BPtmXhyXQzNTRPRg9oANmHx9texuFt4iINIg9RwtZtiGL4rIaYtqFkzrBTlsf+dy2r1F4i4jIj1JZXcvf0g+z9cvTBJhN3HFTDONv6ESA+YofaJKrpPAWEZGrduBkEUvWZ+E4X0WH6ObMTLHTqbV/3A3Omym8RUTkB6txunh761He35WDyQQpiZ25dWhXAgM02r4WFN4iIvKDHD1dwuJ1+zl7roLWkaHMTLHTrV0LT5fVpCi8RUSkXmpdbtb+8xjrM05gGJA0oCN3DI8hyNLwi0bJ5Sm8RUTkik7mlbJkfRY5+WW0ahHMjGQ7cZ0jPF1Wk6XwFhGRS3K53bz3yUn+sf0YLrfBTQnt+LdR3QkJUnx4kn77IiJyUWcKy1myPoujp0to0dzK/ePtxHeL8nRZgsJbRES+w20YfLjrFKu3HsFZ6+aG3q2ZdnNPmodYPF2a/B+Ft4iI1HEUV7J0QxbZJ4tpHmLhpym9GBBn83RZ8h0KbxERwTAMtn11hjc/PER1jYt+PVpx77g4wptpvW1vpPAWEWniikqrWf5eNnuOFhISFMjMFDtDerfx+aU7/ZnCW0SkiTIMg5378/jr+wcpr6qld9dI7h8fR2R4sKdLkytQeIuINEElFTW8tukAnx8oIMgSwD1jYxnet51G2z5C4S0i0sRkHizg1Y3ZlFQ46dmhBTNSemFrGeLpsuQHUHiLiDQRFVVO3vjgEDv2niUwwMy/jepO0oCOmM0abfsahbeISBOw91ghyzZkU1RaTZc2YcxM6UW7Vs08XZZcJYW3iIgfq6qp5a30I6R/kUuA2cTEYV1JvqGzlu70cQpvERE/dTCnmCXr91NQXEX76GbMnNCLzm3CPF2WNACFt4iIn3HWuljz8VE2f5oDJki+oTO33dgVS6BG2/5C4S0i4keOnSlh8br9nCmsoHVECKkpvejevoWny5IGpvAWEfEDtS4363YcZ92OE7gNg9HXd+Cu4d0IsgZ4ujRpBFcM78rKSmbPnk1hYSHV1dU89NBDxMXF8eSTT+JyuYiOjuZ3v/sdVquVtWvXsmLFCsxmM5MnT2bSpEk4nU5mz57N6dOnCQgIYP78+XTs2JHs7Gzmzp0LQGxsLPPmzWvsXkVE/NKpgjIWr9vPybwyosKDmJFsx94l0tNlSSO64gRIeno61113Ha+//jovvPACCxYs4MUXX2TatGm88cYbdO7cmdWrV1NRUcGiRYtYvnw5r732GitWrKC4uJh169YRHh7Om2++yYMPPsjChQsBeO6550hLS2PlypWUlZWxdevWRm9WRMSfuN0G731ygl8v/4yTeWUMi2/Lr1MHK7ibgCuGd3JyMj/96U8BOHPmDK1bt2bnzp2MHj0agJEjR5KRkcHu3bvp06cPYWFhBAcH079/fzIzM8nIyCApKQmAxMREMjMzqampITc3l/j4+AuOISIi9ZN3roL5f/2ct7YcoVmwhZ/fFc/9yXZCgjQb2hTU+1WeMmUKZ8+e5eWXX+b+++/Hav16mbioqCgKCgpwOBxERv7r3V5kZOT3tpvNZkwmEw6Hg/Dw8Lp9vznG5UREhBIY2PBzN9HR/vGxCfXhPfyhB1Af3uabPtxugw07jrFs3X5qnC5u6tueB+6I95mlO/3t9fCUeof3ypUrycrK4oknnsAwjLrt3/76237I9kvt+21FRRX1rLT+oqPDKCgobfDjXmvqw3v4Qw+gPrzNN304zleybEM2WSeKaB5iYUZyHIPsramuqKagotrTZV6Rv70e1+q5LuaK4b13716ioqJo27Ytdrsdl8tFs2bNqKqqIjg4mLy8PGw2GzabDYfDUfe4/Px8+vbti81mo6CggLi4OJxOJ4ZhEB0dTXFxcd2+3xxDRES+zzAMtn11mjc/OERVjYu+3Vtx77hYWjQP8nRp4iFXnPPetWsXS5cuBcDhcFBRUUFiYiKbNm0CYPPmzQwbNoyEhAT27NlDSUkJ5eXlZGZmMmDAAIYOHcrGjRuBry9+Gzx4MBaLhZiYGHbt2nXBMURE5ELFZdU8u3QnyzZkYzLBjGQ7j97ZR8HdxF1x5D1lyhR++ctfMm3aNKqqqpgzZw7XXXcdTz31FKtWraJdu3ZMnDgRi8XCrFmzSE1NxWQy8fDDDxMWFkZycjI7duxg6tSpWK1WFixYAEBaWhpz5szB7XaTkJBAYmJiozcrIuJLPs3K47VNByivqsXeOYIZyXaiWgR7uizxAiajPhPOXqAx5hc0/+Jd/KEPf+gB1IenlVbU8Prmg3yWnY/VYmZGSm8G9GyF2eTbS3f66uvxXT4x5y0iItfOl4ccLN+YTUl5Dd3btyB1gp3rYlv7RehJw1F4i4h4gYqqWlZ+eIjte84QGGBi0shujB3YCbPZt0fb0jgU3iIiHrb/+DmWbsjiXEk1nVuHMTPFTvvo5p4uS7yYwltExEOqa1y8teUwH2XmYjaZuHVoF1ISuxAYoKU75fIU3iIiHnD41HkWr99PflEl7Vo1Y2aKnS5twq/8QBEU3iIi15Sz1sU7246x8dOTYMC4QZ24/aauWBrh9s/ivxTeIiLXyImzpSxet59cRzm2liHMmGCnZ8eWni5LfJDCW0SkkdW63GzIOMG7O47jchuM7N+eySO6E2TVaFuujsJbRKQR5TrKWbxuPyfOlhIRFsSMZDu9u2q9bflxFN4iIo3A7TbY/FkOaz4+Sq3LzdDr2jD15h6EBls8XZr4AYW3iEgDyy+qYMn6LA6dOk94qIV7x/WmX89oT5clfkThLSLSQAzDYMsXuaxKP0yN082A2GjuHhtLWKjV06WJn1F4i4g0gHMlVSzbkMW+40U0Cw7k/vF2BtltmHx8MRHxTgpvEZEfwTAMduw9yxsfHKSy2kV8tyjuHRdHRJjW25bGo/AWEblK58treHVjNl8cchBkDeC+8XEMi2+r0bY0OoW3iMhV2JWdz6ubDlBW6SSuU0tmJNtp1TLE02VJE6HwFhH5Acoqnfz1/YPs3J+HNdDMtJt7MOr6Dpg12pZrSOEtIlJPXx1xsOy9bM6X1dCtXTipKb1oExnq6bKkCVJ4i4hcQWV1Las+OsTHu88QYDZx5/AYxg3uRIBZS3eKZyi8RUQuI+tEEUvXZ1FYUkVHW3NmpvSio625p8uSJk7hLSJyEdVOF29vPcIHu05hNplISezCrUO7EBig0bZ4nsJbROQ7juSeZ/H6LPLOVdA2KpTUCb2IaRfu6bJE6ii8RUT+j7PWzdp/HmPDJyfAgDEDO3LHTTFYLVq6U7yLwltEBDiZV8ridVmcKiijVYtgUifYie0U4emyRC5K4S0iTZrL7WbDJydZu/0YLrfBiL7tmDSyOyFB+vMo3qte/zqff/55Pv/8c2pra3nggQf46KOP2LdvHy1btgQgNTWVESNGsHbtWlasWIHZbGby5MlMmjQJp9PJ7NmzOX36NAEBAcyfP5+OHTuSnZ3N3LlzAYiNjWXevHmN1qSIyMWcKSxn8br9HDtTSkRYEPePj+O6mChPlyVyRVcM708++YRDhw6xatUqioqKuP3227nhhht4/PHHGTlyZN1+FRUVLFq0iNWrV2OxWLjrrrtISkoiPT2d8PBwFi5cyPbt21m4cMP39rAAACAASURBVCEvvPACzz33HGlpacTHxzNr1iy2bt3K8OHDG7VZEREAt2HwwWc5vP3xUZy1bob0bsO0pB40C7Z4ujSRerlieA8cOJD4+HgAwsPDqaysxOVyfW+/3bt306dPH8LCwgDo378/mZmZZGRkMHHiRAASExNJS0ujpqaG3NzcuuOOHDmSjIwMhbeINLqC4kqWrM/iYE4xYaEWfnZLL66PtXm6LJEf5IrhHRAQQGjo17f/W716NTfddBMBAQG8/vrrLFu2jKioKJ5++mkcDgeRkZF1j4uMjKSgoOCC7WazGZPJhMPhIDz8Xx+7iIqKoqCg4LJ1RESEEhjY8Fd8RkeHNfgxPUF9eA9/6AH8rw/DMNj0yQmWrN1LVY2LIX3a8tCdCbT0kaU7/e318HWe7qPeV2R88MEHrF69mqVLl7J3715atmyJ3W7nz3/+My+99BL9+vW7YH/DMC56nIttv9S+31ZUVFHfUustOjqMgoLSBj/utaY+vIc/9AD+10dRaTXL3sti79FzhAYF8tNbenFDr9Y4q2ooqKrxdJlX5G+vh6+7ln1c6k1CvW4VtG3bNl5++WX+8pe/EBYWxpAhQ7Db7QCMGjWKgwcPYrPZcDgcdY/Jz8/HZrNhs9nqRtVOpxPDMIiOjqa4uLhu37y8PGw2nbYSkYZlGAYZe8/y9OKd7D16jutiInl25mCG9G6jNbfFp10xvEtLS3n++ed55ZVX6q4uf/TRR8nJyQFg586d9OjRg4SEBPbs2UNJSQnl5eVkZmYyYMAAhg4dysaNGwFIT09n8ODBWCwWYmJi2LVrFwCbN29m2LBhjdWjiDRBuY5yfr5wC39Ztx+X2+CecbH8x6QEInzkNLnI5VzxtPmGDRsoKiriscceq9t2xx138NhjjxESEkJoaCjz588nODiYWbNmkZqaislk4uGHHyYsLIzk5GR27NjB1KlTsVqtLFiwAIC0tDTmzJmD2+0mISGBxMTExutSRJoMt9tg82c5rPn4KLUuNzHtwvnZrb2xtQzxdGkiDcZk1GfC2Qs0xvyC5l+8iz/04Q89gO/2kVdUwZL1WRw+dZ7wUAuPTO5H9za+vwKYr74e36U+ru65Lka3EBIRn+esdfPO9qN8+Pkpapxuro+N5u6xsXTrHOUXYSHyXQpvEfFpx86UsHjdfs4UVtAsOJD7xscx2N5aF6SJX1N4i4hPqnW5WbfjOOt2nMBtGPTuGsmMZLsuSJMmQeEtIj7nVH4Zi9fv52ReGVHhQcxItmPvEnnlB4r4CYW3iPgMt9tg46cneWfbUWpdBsPi2zJldA+tACZNjv7Fi4hPyDtXweL1+zmSW0KLZlbuHR9H3+6tPF2WiEcovEXEq7kNg/TMXN5KP0xNrZtBdhvTx8TSPEQrgEnTpfAWEa/lOF/Jsg3ZZJ0oonmIhRkT7Ayyt/Z0WSIep/AWEa9jGAbbvzrDmx8eoqrGRd/urbh3XCwtmutKchFQeIuIlykuq2bFe9nsPlJISFAAM5LtDO2jhUREvk3hLSJe49OsPF7bdIDyqlrsnSOYkWwnqkWwp8sS8ToKbxHxuNKKGl7ffJDPsvOxWsxMH9OTEf3aY9ZoW+SiFN4i4lFfHnKwfGM2JeU1dO/QgtQJdlpHhHq6LBGvpvAWEY+oqKpl5YeH2L7nDIEBJiaN7MbYgZ0wmzXaFrkShbeIXHP7j59j6YYszpVU07l1GDNT7LSP9v2lO0WuFYW3iFwz1TUu3tpymI8yczGbTNw6tAspiV0IDDB7ujQRn6LwFpFr4vCp8yxev5/8okratWrGzBQ7XdqEe7osEZ+k8BaRRuWsdfHOtmNs/PQkGDBucCduH9YVS2CAp0sT8VkKbxFpNCfOlrJ43X5yHeXYWoaQmmKnR4eWni5LxOcpvEWkwdW63KzPOMG6HcdxuQ1G9m/P5BHdCbJqtC3SEBTeItKgch3lLF63nxNnS4kIC2JGsp3eXSM9XZaIX1F4i0iDcLsNNn+Ww5qPj1LrcjO0Txumju5BaLCW7hRpaApvEfnR8osqWLI+i0OnzhPezMq942Lp1yPa02WJ+C2Ft4hcNcMw2PJFLqvSD1PjdDMgNpq7x8YSFmr1dGkifk3hLSJX5VxJFcs2ZLHveBHNggO5f7ydQXablu4UuQbqFd7PP/88n3/+ObW1tTzwwAP06dOHJ598EpfLRXR0NL/73e+wWq2sXbuWFStWYDabmTx5MpMmTcLpdDJ79mxOnz5NQEAA8+fPp2PHjmRnZzN37lwAYmNjmTdvXmP2KSINxDAMduw9yxsfHKSy2kV8tyjuHRdHRFiQp0sTaTKueE/CTz75hEOHDrFq1SoWL17Mb37zG1588UWmTZvGG2+8QefOnVm9ejUVFRUsWrSI5cuX89prr7FixQqKi4tZt24d4eHhvPnmmzz44IMsXLgQgOeee460tDRWrlxJWVkZW7dubfRmReTHOV9ew0tr9rBkfRaGAfeNj+MXd8UruEWusSuG98CBA/mf//kfAMLDw6msrGTnzp2MHj0agJEjR5KRkcHu3bvp06cPYWFhBAcH079/fzIzM8nIyCApKQmAxMREMjMzqampITc3l/j4+AuOISLea1d2Pk8v3skXhxzEdWrJr2cM4qaEdjpNLuIBVzxtHhAQQGjo12vrrl69mptuuont27djtX59QUpUVBQFBQU4HA4iI//1Wc7IyMjvbTebzZhMJhwOB+Hh/7qn8TfHuJyIiFACG+F2itHRYQ1+TE9QH97DH3qAf/VRWlHDy2u+4uMvcrFaAvjZxD5MGNrVZ5bu9LfXw9epj4ZR7wvWPvjgA1avXs3SpUsZM2ZM3XbDMC66/w/Zfql9v62oqKKeldZfdHQYBQWlDX7ca019eA9/6AH+1cdXRxwsey+b82U1dGsXTmpKL9pEhlJYWObpEuvF314PX6c+ru65LqZe4b1t2zZefvllFi9eTFhYGKGhoVRVVREcHExeXh42mw2bzYbD4ah7TH5+Pn379sVms1FQUEBcXBxOpxPDMIiOjqa4uLhu32+OISLeoaLKyfL3svh49xkCzCbuHB7DuMGdCDBr6U4Rb3DF/4mlpaU8//zzvPLKK7Rs+fWCAomJiWzatAmAzZs3M2zYMBISEtizZw8lJSWUl5eTmZnJgAEDGDp0KBs3bgQgPT2dwYMHY7FYiImJYdeuXRccQ0Q8yzAMtu0+zb/9cgMf7z5DJ1tz5tw3kAlDuii4RbzIFUfeGzZsoKioiMcee6xu24IFC/jVr37FqlWraNeuHRMnTsRisTBr1ixSU1MxmUw8/PDDhIWFkZyczI4dO5g6dSpWq5UFCxYAkJaWxpw5c3C73SQkJJCYmNh4XYrIFRWXVbPivWx2HykEICWxC7cO7UJggEJbxNuYjPpMOHuBxphf0PyLd/GHPny1h0+z8nht0wHKq2qxd47g/909AFOty9Nl/Wi++np8l/rwLj4z5y0i/qm0oobXNx/ks+x8rIFmfpLUk5H922OLCPWLP7Ii/krhLdIEuQ2DD3ed4s0PDwHQrX04Myf0onVkqIcrE5H6UHiLNDEFxZUs25BF9smvP/Fx14hujBvUyWc+ty0iCm+RJsMwDD7efZqVHx2musZFvx6tuHdcHOHNtAKYiK9ReIs0AUWl1Sx/L5s9RwsJCQpkZoqdIb3b6NamIj5K4S3ixwzDYOf+PP76/kHKq2rp3TWS+8fHERke7OnSRORHUHiL+KmSihpe23SAzw8UEGQJ4O6xsYzoq4VERPyBwlvED2UeLGDFxmxKK5z07NCCGRPs2CJ0JbmIv1B4i/iRiionb3xwiB17zxIYYObfRnUnaUBHXUku4mcU3iJ+Yu+xQpZtyKaotJoubcKYmdKLdq2aebosEWkECm8RH1dVU8vf0o+w5YtcAswmJg7rSvINnXVPchE/pvAW8WEHc4pZsn4/BcVVtI9uxswJvejc5uL3QhYR/6HwFvFBzloXaz4+yuZPc8AEyTd05rYbu2IJ1GhbpClQeIv4mGNnSli8bj9nCitoHRFCakovurdv4emyROQaUniL+Ihal5t3/3mc9RkncBsGo6/vwF3DuxFkDfB0aSJyjSm8RXzAqfwyFq/fz8m8MqLCg5iRbMfeJdLTZYmIhyi8RbyY222w8dOTvLPtKLUugxvj2zJlVA9Cg/VfV6Qp018AES+Vd66Cxev3cyS3hBbNrNw7Po6+3Vt5uiwR8QIKbxEv4zYMPvr8FKu3HKGm1s0gu43pY2JpHmLxdGki4iUU3iJexHG+kmUbssk6UUTzEAszJtgZZG/t6bJExMsovEW8gGEYbP/qDG9+eIiqGhcJ3aK4b3wcLZoHebo0EfFCCm8RDysuq2bFe9nsPlJISFAAM5LtDO3TRkt3isglKbxFPOjTrDxe23SA8qpa7J0jmJFsJ6pFsKfLEhEvp/AW8YAzheW8uvEAB3KKsVrM/CSpJyP7t8es0baI1IPCW+QachsGH+46xeqtR3DWuunevgWpE+y0jgz1dGki4kPqFd4HDx7koYce4r777mP69OnMnj2bffv20bJlSwBSU1MZMWIEa9euZcWKFZjNZiZPnsykSZNwOp3Mnj2b06dPExAQwPz58+nYsSPZ2dnMnTsXgNjYWObNm9doTYp4A0dxJUs3ZJF9shhroJnbb4phwg2dMZs12haRH+aK4V1RUcGzzz7LkCFDLtj++OOPM3LkyAv2W7RoEatXr8ZisXDXXXeRlJREeno64eHhLFy4kO3bt7Nw4UJeeOEFnnvuOdLS0oiPj2fWrFls3bqV4cOHN3yHIh5mGAbb/u9K8uoaF/16tOKecXG0aGb1dGki4qOuuH6g1WrlL3/5Czab7bL77d69mz59+hAWFkZwcDD9+/cnMzOTjIwMkpKSAEhMTCQzM5Oamhpyc3OJj48HYOTIkWRkZDRAOyLepai0mhfe+orl72VjNplInWDnkTv6KLhF5Ee54sg7MDCQwMDv7/b666+zbNkyoqKiePrpp3E4HERG/muhhMjISAoKCi7YbjabMZlMOBwOwsPD6/aNioqioKDgsnVERIQSGNjwqydFR4c1+DE9QX14j+joMAzDYOsXubyy5ivKKp307RnNzyf3IzoixNPl1Zs/vBagPryN+mgYV3XB2m233UbLli2x2+38+c9/5qWXXqJfv34X7GMYxkUfe7Htl9r324qKKq6m1MuKjg6joKC0wY97rakP7xEdHcburLO8snYfOfllWC1m7h7TkxH92kNtrc/05w+vBagPb6M+ru65LuaKp80vZsiQIdjtdgBGjRrFwYMHsdlsOByOun3y8/Ox2WzYbLa6UbXT6cQwDKKjoykuLq7bNy8v74qn5UW8ndtt8M7Ww8xd9hk5+WV0bRvOr2cMYmT/Drrhiog0qKsK70cffZScnBwAdu7cSY8ePUhISGDPnj2UlJRQXl5OZmYmAwYMYOjQoWzcuBGA9PR0Bg8ejMViISYmhl27dgGwefNmhg0b1kAtiVx7+cWVPP9GJkvW7iM0KIBH7ujD0/cOwBahj4CJSMO74mnzvXv38tvf/pbc3FwCAwPZtGkT06dP57HHHiMkJITQ0FDmz59PcHAws2bNIjU1FZPJxMMPP0xYWBjJycns2LGDqVOnYrVaWbBgAQBpaWnMmTMHt9tNQkICiYmJjd6sSEMzDIOtX55m1UeHqXa6GNKnLf82shvhobogTUQaj8moz4SzF2iM+QXNv3gXX+vjXEkVy97LZt+xc4QGBTJ9TE9ShnfH4SjzdGk/mq+9FpeiPryL+ri657oY3WFN5AcyDIOMfWf56/uHqKyupU/M1yuARYQFaW5bRK4JhbfID1BSXsOrmw6QebCAIGsA942PY1h8W4W2iFxTCm+Revr8QD4rNh6grNJJbMeWzJhgJ7ql73xuW0T8h8Jb5ArKq5z89f2DfLIvD0ugmamjezB6QAetACYiHqPwFrmMPUcLWbYhi+KyGrq2DWdmip22Uc08XZaINHEKb5GLqKyu5W/ph9n65WkCzCbuuCmG8Td0IsB8VbdGEBFpUApvke84cLKIJeuzcJyvokN0c2am2OnU2j/uxywi/kHhLfJ/apwu3t56lPd35WAyQUpiZ24d2pXAAI22RcS7KLxFgKOnS1i8bj9nz1XQOjKUmSl2urVr4emyREQuSuEtTVqty83afx5jfcYJDAOSBnTkjuExBFkafvlZEZGGovCWJutkXilL1meRk19GVHgwqRPsxHWO8HRZIiJXpPCWJsfldvPeJyf5x/ZjuNwGNyW0499GdSckSP8dRMQ36K+VNClnCstZsj6Lo6dLaNHcyv3j7cR3i/J0WSIiP4jCW5oEt2Hw4a5TrN56BGetmxt6t2bazT1pHmLxdGkiIj+Ywlv8nqO4kqUbssg+WUzzEAs/TenFgDibp8sSEblqCm/xW4ZhsO2rM7z54SGqa1z069GKe8bF0aKZ1dOliYj8KApv8UtFpdUsfy+bPUcLCQkKZGaKnSG922jpThHxCwpv8SuGYbBzfx5/ff8g5VW19O4ayf3j44gMD/Z0aSIiDUbhLX6jpKKG1zYd4PMDBQRZArh7bCwj+rbTaFtE/I7CW/zCFwcLWLExm5IKJz06tCB1gh1bRKinyxIRaRQKb/FpFVVO3vjgEDv2niUwwMzkkd0ZM7AjZrNG2yLivxTe4rP2Hitk2YZsikqr6dImjNSUXrRv1czTZYmINDqFt/icqppa3ko/QvoXuQSYTUwc1pXkGzpr6U4RaTIU3uJTDuYUs2T9fgqKq2gf3YyZE3rRuU2Yp8sSEbmmFN7iE5y1LtZ8fJTNn+aACcbf0ImJN8ZgCdRoW0SannqF98GDB3nooYe47777mD59OmfOnOHJJ5/E5XIRHR3N7373O6xWK2vXrmXFihWYzWYmT57MpEmTcDqdzJ49m9OnTxMQEMD8+fPp2LEj2dnZzJ07F4DY2FjmzZvXmH2KDzt2poTF6/ZzprACW0QIMyf0onuHFp4uS0TEY644bKmoqODZZ59lyJAhddtefPFFpk2bxhtvvEHnzp1ZvXo1FRUVLFq0iOXLl/Paa6+xYsUKiouLWbduHeHh4bz55ps8+OCDLFy4EIDnnnuOtLQ0Vq5cSVlZGVu3bm28LsUn1brcvLPtKM+9+jlnCisYfX0H5t0/SMEtIk3eFcPbarXyl7/8BZvtXws57Ny5k9GjRwMwcuRIMjIy2L17N3369CEsLIzg4GD69+9PZmYmGRkZJCUlAZCYmEhmZiY1NTXk5uYSHx9/wTFEvnGqoIz/enUXa/95nIgwK09M6ctPknoSZA3wdGkiIh53xdPmgYGBBAZeuFtlZSVW69eLO0RFRVFQUIDD4SAyMrJun8jIyO9tN5vNmEwmHA4H4eHhdft+c4zLiYgIJTCw4f9wR0f7x8VO/tJHZFRz3tlymNc3ZlPrcpM0qBOpt15HMx9autNfXgv14V3Uh3fxdB8/+oI1wzB+9PZL7fttRUUVP6yweoiODqOgoLTBj3ut+UsfTkw8/9pnHMktoUUzK/eOj6Nv91ZUlFVRUVbl6fLqxV9eC/XhXdSHd7mWfVzqTcJVhXdoaChVVVUEBweTl5eHzWbDZrPhcDjq9snPz6dv377YbDYKCgqIi4vD6XRiGAbR0dEUFxfX7fvNMaRpchsG6Zm5vLXlCDVOF4PsNqaPiaW5D422RUSupav6nE1iYiKbNm0CYPPmzQwbNoyEhAT27NlDSUkJ5eXlZGZmMmDAAIYOHcrGjRsBSE9PZ/DgwVgsFmJiYti1a9cFx5Cmx3G+koUrv+Sv7x8kyGLmwdt68+Bt1ym4RUQu44oj77179/Lb3/6W3NxcAgMD2bRpE7///e+ZPXs2q1atol27dkycOBGLxcKsWbNITU3FZDLx8MMPExYWRnJyMjt27GDq1KlYrVYWLFgAQFpaGnPmzMHtdpOQkEBiYmKjNyvewzAMtu85w5sfHKKqxkVCtyhmTR9AbbXT06WJiHg9k1GfCWcv0BjzC5p/8YzismpWvJfN7iOFhAQFMHV0T4b2aYPNFu5TfVyMr70Wl6I+vIv68C4+O+ctcrU+zcrjtU0HKK+qxd45ghnJdqJaBHu6LBERn6LwlmuitKKG1zcf5LPsfKyBZn6S1JOR/dtjNmnpThGRH0rhLY3uy0MOlm/MpqS8hm7tw5k5oRetI0M9XZaIiM9SeEujqaiqZeWHh9i+5wyBASYmjejG2EGdMJs12hYR+TEU3tIo9h8/x7INWRSWVNOpdXNmpvSiQ3RzT5clIuIXFN7SoKprXKzecoQPM09hNpm4dWgXUhK7EBigpTtFRBqKwlsazOFT51m8fj/5RZW0jQplZkovurYNv/IDRUTkB1F4y49WUlHDa5sO8PmBAkzAuEGduP2mrlgaYSEZERFReMuPlHmwgBUbsymtcNI8xMIjd/ShZ8eWni5LRMSvKbzlqlRUOXnjg0Ps2HuWwAAzk0d2Z8zAjrqSXETkGlB4yw+291ghyzZkU1RaTec2YcxM6UX7Vs08XZaISJOh8JZ6q6qp5a30I6R/kUuA2cTEG7uSPKSzriQXEbnGFN5SLwdzilmyfj8FxVW0b9WMmSm96Nzm4jfMFxGRxqXwlsty1rpY8/FRNn+aAyYYf0MnJt4YgyVQo20REU9ReMslHTtTwuJ1+zlTWIEtIoSZE3rRvUMLT5clItLkKbzle2pdbtbtOM66HSdwGwaj+3fgrhHdCLLqc9siIt5A4S0XOJVfxuL1+zmZV0ZkeBAzku306hLp6bJERORbFN4CgNttsPHTk7yz7Si1LoMb49syZVQPQoP1T0RExNvoL7OQd66Cxev3cyS3hBbNrNw7Po6+3Vt5uiwREbkEhXcT5jYM0jNzeSv9MDW1bgbZbUwfE0vzEIunSxMRkctQeDdRjvOVLNuQTdaJIpoFBzJjgp1B9taeLktEROpB4d3EGIbB9q/O8OaHh6iqcZHQLYr7xsfRonmQp0sTEZF6Ung3IZ8fKOAf249xqqCMkKAAZiTbGdqnDSaTFhMREfElCu8moLK6ljc/PMT2r84AYO8cwYxkO1Etgj1cmYiIXA2Ft5/LOn6OpRuyKCypJsgSwO03xXDzgA6YNdoWEfFZVxXeO3fu5Be/+AU9evQAoGfPnsycOZMnn3wSl8tFdHQ0v/vd77Baraxdu5YVK1ZgNpuZPHkykyZNwul0Mnv2bE6fPk1AQADz58+nY8eODdpYU1ftdLF6yxE+/PwUZpOJWxK7cMvQLloBTETED1z1yHvQoEG8+OKLdd//53/+J9OmTWP8+PH84Q9/YPXq1UycOJFFixaxevVqLBYLd911F0lJSaSnpxMeHs7ChQvZvn07Cxcu5IUXXmiQhpo6wzDYmZXHa5sOUlldS9uoUGam9KJr23BPlyYiIg2kwYZhO3fuZPTo0QCMHDmSjIwMdu/eTZ8+fQgLCyM4OJj+/fuTmZlJRkYGSUlJACQmJpKZmdlQZTRppRU1/Okf+/jz2v1UVdcyZmBHnrlvoIJbRMTPXPXI+/Dhwzz44IOcP3+eRx55hMrKSqxWKwBRUVEUFBTgcDiIjPzXfbEjIyO/t91sNmMymaipqal7/MVERIQSGNjwC2NER/vHmtRH88p46a3dFJdVE9OuBTNu7U1Cj2hPl/WD+cPr4Q89gPrwNurDu3i6j6sK7y5duvDII48wfvx4cnJyuOeee3C5XHU/Nwzjoo/7odu/raio4mpKvazo6DAKCkob/LjXUkWVkzXbj/PRrhwCA0xMHtmdMQM7YjabfK43f3g9/KEHUB/eRn14l2vZx6XeJFxVeLdu3Zrk5GQAOnXqRKtWrdizZw9VVVUEBweTl5eHzWbDZrPhcDjqHpefn0/fvn2x2WwUFBQQFxeH0+nEMIzLjrrl4vYdP8fS9VkUlVbTuXUYM1PstI9u7umyRESkkV3VnPfatWtZsmQJAAUFBRQWFnLHHXewadMmADZv3sywYcNISEhgz549lJSUUF5eTmZmJgMGDGDo0KFs3LgRgPT0dAYPHtxA7TQN1TUuXtt8gIUrv6SkvIZpY2L55T3XK7hFRJqIqxp5jxo1iv/3//4fH374IU6nk7lz52K323nqqadYtWoV7dq1Y+LEiVgsFmbNmkVqaiomk4mHH36YsLAwkpOT2bFjB1OnTsVqtbJgwYKG7stvHTpVzJJ1WeQXV9KuVTNmptgZ2Ke9X5yKEhGR+jEZ9Zlw9gKNEU6+NP/irHXx923H2LTzJABjB3fi9mFdsQQG+FQfl+MPffhDD6A+vI368C4+O+ct19bn/7+9+w+qus73OP48gAQIiSCHlM10EZYTYsrNbZAsKOXe0Km7zMDYLON2w34Mg+M0Q3mGmOwv8VdNjV2ncHVvk92N0nKcdMUtcy9bRKveywppBG2mSfLLQH7/+tw/3Bht8VeLfL9feD3+cc5X4LxfvgdfnO/3nMMXjby+/wTtXX24QwPJWeoh5mehVo8lIiIWUXnbWEd3H//9xxrKq88CcF9iFJkps7jJf+RfMiciIs6h8rYhYwx/OdFAycFazp3vYdqUiWSlzmJOdLjVo4mIiA2ovG3mb/VtbHnvGM1tPfj6uPjVwpmkJ92Gr4/ek1xERC5QedtE/8Ag73/yNe9/cpJBY3BPDiT332czPXJsvBuRiIiMHJW3DZxubOe373/ON2fbCbv5Jv4j3UP8jLCrf6KIiIxLKm8LDQ4aSj/7hvfKvqJ/wHB3wlSW3R9DUIDWIiIil6eWsMjZlk5+u/dz6r5tY9JEf37zQBxzZ02xeiwREXEAlfcoO9/Zy64/1fE/lfUA/NLjJjvtFwQHTrB4MhERcQqV9yj54RT5O4fqAJjg50POEg+/9ERaPJmIiDiNynsUfNfSyba/nyIHSJkXRcY9P9ejbRER+UlU3jfQoDEcPHKanYfq6O0f5K7bI/n14liVI0Ya5AAACYxJREFUtoiI/FNU3jdIU2sXv9t3guMnzxEcOIGcpbczP85t9VgiIjIGqLxHmDGGP/+1nt9/+CXdvQPMnTWF3/zbL5gUfJPVo4mIyBih8h5B37f38F9/OMFf65oJvMmXR9M9JCfcgsvlsno0EREZQ1TeI6Ti87PsOPAFHd39eG6bzKPpHsInBVg9loiIjEEq73/S+c5edhyo4S8nGvCf4MOvF8eSmhiFjx5ti4jIDaLy/okGzYXXbe8rP0lHdz+zoiaRs8RDZFiQ1aOJiMgYp/L+CRq+7+J3e4/zxanv8fN1kZkazb/On46Pjx5ti4jIjafyvg59/YPs/vNX/OHTbwCYcUsIOUs8REUEWzyZiIiMJyrva2CM4ZOq73iv7Cta2noAWLHUQ1K8nkkuIiKjT+V9FV+e/p7/fPcYbZ19AKTOiyIzNZoAf/3TiYiINdRAl9HXP8Dusr+xv+IbDDBpoj+PLvGQ8PNwq0cTEZFxTuU9jKM1jWx5r4pBY3CHBpKz1EPMz0KtHktERARQeV+is7uPN//4JeXV3wGQmhhFZopOkYuIiL1Y2kpr166lsrISl8tFQUEBc+bMsWQOYwyH/u8Mb5R+AVx4FvmKpbczbcpES+YRERG5EsvK+7PPPuPkyZOUlJRQV1dHQUEBJSUlozrDmaZ29vypjg+OnKandwCAXy2cSXrSbfj6+IzqLCIiItfKsvIuLy9n0aJFAERHR9Pa2kp7ezvBwTf+NdO9fQNs/P3/UnembehY/MwwshfH6h3SRETE9iwr76amJuLj44duh4WF0djYeNnynjw5CD8/3xG57++aO4aK+9bIYHIenM2/xEWOyNe2SkREiNUjjIixkGMsZADlsBvlsBerc9jmmVjGmCv+/blznSN2X75A8dMpTL1lEo2N5wGG/nSiiIgQR8//g7GQYyxkAOWwG+Wwl9HMcbkfEiy7sOt2u2lqahq63dDQQERExKjdv5+vrmmLiIgzWdZgycnJlJaWAlBdXY3b7R6V690iIiJOZ9lp88TEROLj41m2bBkul4s1a9ZYNYqIiIijWHrNOz8/38q7FxERcSRd+BUREXEYlbeIiIjDqLxFREQcRuUtIiLiMCpvERERh1F5i4iIOIzKW0RExGFU3iIiIg7jMlf7jSAiIiJiK3rkLSIi4jAqbxEREYdReYuIiDiMyltERMRhVN4iIiIOo/IWERFxGEt/n7dV1q5dS2VlJS6Xi4KCAubMmWP1SFdUUVHBqlWriImJASA2NpYVK1bwzDPPMDAwQEREBBs3bsTf3589e/bw+uuv4+PjQ1ZWFpmZmRZPDzU1NeTm5vLII4+QnZ1NfX39Nc/e19eH1+vlzJkz+Pr6UlRUxK233mqLHF6vl+rqakJDQwHIyckhJSXF9jk2bNjAkSNH6O/v54knniAhIcGR+/hxjoMHDzpqH11dXXi9Xpqbm+np6SE3N5e4uDjH7WK4HKWlpY7axcW6u7tZunQpubm5JCUl2XcfZpypqKgwjz/+uDHGmNraWpOVlWXxRFf36aefmpUrV15yzOv1mn379hljjHnhhRfMm2++aTo6OkxaWpppa2szXV1dZsmSJebcuXNWjDyko6PDZGdnm8LCQvPGG28YY65v9nfffdc8//zzxhhjysrKzKpVq2yTY/Xq1ebgwYP/8HF2zlFeXm5WrFhhjDGmpaXF3HvvvY7cx3A5nLaPvXv3muLiYmOMMadPnzZpaWmO3MVwOZy2i4u9+OKLJiMjw+zatcvW+xh3p83Ly8tZtGgRANHR0bS2ttLe3m7xVNevoqKC+++/H4DU1FTKy8uprKwkISGBkJAQAgICSExM5OjRo5bO6e/vz9atW3G73UPHrmf28vJyFi9eDMCCBQssyzNcjuHYPcf8+fN5+eWXAbj55pvp6upy5D6GyzEwMPAPH2fnHOnp6Tz22GMA1NfXExkZ6chdDJdjOHbPAVBXV0dtbS0pKSmAvf+vGnfl3dTUxOTJk4duh4WF0djYaOFE16a2tpYnn3yShx9+mI8//piuri78/f0BCA8Pp7GxkaamJsLCwoY+xw7Z/Pz8CAgIuOTY9cx+8XEfHx9cLhe9vb2jF+DvhssBsGPHDpYvX85TTz1FS0uL7XP4+voSFBQEwM6dO7nnnnscuY/hcvj6+jpuHwDLli0jPz+fgoICR+7iBxfnAOd9bwCsX78er9c7dNvO+xiX17wvZhzw7rAzZswgLy+PBx54gFOnTrF8+fJLHmVcLoMTsl3v7HbK9NBDDxEaGorH46G4uJhXXnmFefPmXfIxds3xwQcfsHPnTrZv305aWtrQcaft4+IcVVVVjtzHW2+9xfHjx3n66acvmcNpu7g4R0FBgeN2sXv3bubOnXvZ69R228e4e+Ttdrtpamoaut3Q0EBERISFE11dZGQk6enpuFwupk+fzpQpU2htbaW7uxuAs2fP4na7h812tdO8VggKCrrm2d1u99DZg76+PowxQz8JWy0pKQmPxwPAfffdR01NjSNylJWV8eqrr7J161ZCQkIcu48f53DaPqqqqqivrwfA4/EwMDDAxIkTHbeL4XLExsY6ahcAhw4d4sMPPyQrK4t33nmHLVu22Pp7Y9yVd3JyMqWlpQBUV1fjdrsJDg62eKor27NnD9u2bQOgsbGR5uZmMjIyhnIcOHCAhQsXcscdd3Ds2DHa2tro6Ojg6NGj3HnnnVaOPqwFCxZc8+zJycns378fgI8++oi77rrLytEvsXLlSk6dOgVcuDYWExNj+xznz59nw4YNvPbaa0PPBHbiPobL4bR9HD58mO3btwMXLud1dnY6chfD5XjuuecctQuAl156iV27dvH222+TmZlJbm6urfcxLn+r2KZNmzh8+DAul4s1a9YQFxdn9UhX1N7eTn5+Pm1tbfT19ZGXl4fH42H16tX09PQwbdo0ioqKmDBhAvv372fbtm24XC6ys7N58MEHLZ29qqqK9evX8+233+Ln50dkZCSbNm3C6/Ve0+wDAwMUFhby9ddf4+/vz7p165g6daotcmRnZ1NcXExgYCBBQUEUFRURHh5u6xwlJSVs3ryZmTNnDh1bt24dhYWFjtrHcDkyMjLYsWOHY/bR3d3Ns88+S319Pd3d3eTl5TF79uxr/r62Q4bL5QgKCmLjxo2O2cWPbd68maioKO6++27b7mNclreIiIiTjbvT5iIiIk6n8hYREXEYlbeIiIjDqLxFREQcRuUtIiLiMCpvERERh1F5i4iIOIzKW0RExGH+HwX0a984Zrx4AAAAAElFTkSuQmCC",
      "text/plain": [
       "<Figure size 576x396 with 1 Axes>"
      ]
     },
     "metadata": {},
     "output_type": "display_data"
    }
   ],
   "source": [
    "plt.plot(learning_results)\n",
    "plt.title('reward of learnig process')"
>>>>>>> 9450e0e4608de434bcea18082306024d45f21051
   ]
  },
  {
   "cell_type": "code",
<<<<<<< HEAD
   "execution_count": 21,
   "metadata": {},
   "outputs": [
    {
     "name": "stderr",
     "output_type": "stream",
     "text": [
      "100%|██████████| 8124/8124 [01:47<00:00, 75.23it/s]\n"
     ]
    }
   ],
   "source": [
    "epliso=0.1\n",
    "alpha_input = 1+np.sqrt(np.log(2/epliso)/2)\n",
    "TS_regret = simulator(K_arms = 2, d = 95, alpha = alpha_input,X=X,y=y)"
=======
   "execution_count": 42,
   "metadata": {},
   "outputs": [
    {
     "data": {
      "text/plain": [
       "Text(0.5, 1.0, 'mean reward of learnig process')"
      ]
     },
     "execution_count": 42,
     "metadata": {},
     "output_type": "execute_result"
    },
    {
     "data": {
      "image/png": "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",
      "text/plain": [
       "<Figure size 576x396 with 1 Axes>"
      ]
     },
     "metadata": {},
     "output_type": "display_data"
    }
   ],
   "source": [
    "plt.plot(score1)\n",
    "plt.title('mean reward of learnig process')"
>>>>>>> 9450e0e4608de434bcea18082306024d45f21051
   ]
  },
  {
   "cell_type": "code",
<<<<<<< HEAD
   "execution_count": 22,
=======
   "execution_count": 43,
>>>>>>> 9450e0e4608de434bcea18082306024d45f21051
   "metadata": {},
   "outputs": [
    {
     "data": {
      "text/plain": [
<<<<<<< HEAD
       "[<matplotlib.lines.Line2D at 0x7f16f8b4cfd0>]"
      ]
     },
     "execution_count": 22,
=======
       "Text(0.5, 1.0, 'reward of deploying')"
      ]
     },
     "execution_count": 43,
>>>>>>> 9450e0e4608de434bcea18082306024d45f21051
     "metadata": {},
     "output_type": "execute_result"
    },
    {
     "data": {
<<<<<<< HEAD
      "image/png": "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",
=======
      "image/png": "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",
>>>>>>> 9450e0e4608de434bcea18082306024d45f21051
      "text/plain": [
       "<Figure size 576x396 with 1 Axes>"
      ]
     },
     "metadata": {},
     "output_type": "display_data"
    }
   ],
   "source": [
<<<<<<< HEAD
    "plt.plot(TS_regret)"
   ]
  },
  {
   "cell_type": "markdown",
   "metadata": {},
   "source": [
    "# plot the figure"
=======
    "plt.plot(deploy_results)\n",
    "plt.title('reward of deploying')"
   ]
  },
  {
   "cell_type": "code",
   "execution_count": 44,
   "metadata": {},
   "outputs": [
    {
     "data": {
      "text/html": [
       "<div>\n",
       "<style scoped>\n",
       "    .dataframe tbody tr th:only-of-type {\n",
       "        vertical-align: middle;\n",
       "    }\n",
       "\n",
       "    .dataframe tbody tr th {\n",
       "        vertical-align: top;\n",
       "    }\n",
       "\n",
       "    .dataframe thead th {\n",
       "        text-align: right;\n",
       "    }\n",
       "</style>\n",
       "<table border=\"1\" class=\"dataframe\">\n",
       "  <thead>\n",
       "    <tr style=\"text-align: right;\">\n",
       "      <th></th>\n",
       "      <th>0</th>\n",
       "      <th>1</th>\n",
       "    </tr>\n",
       "  </thead>\n",
       "  <tbody>\n",
       "    <tr>\n",
       "      <th>0</th>\n",
       "      <td>1</td>\n",
       "      <td>1</td>\n",
       "    </tr>\n",
       "    <tr>\n",
       "      <th>1</th>\n",
       "      <td>1</td>\n",
       "      <td>1</td>\n",
       "    </tr>\n",
       "    <tr>\n",
       "      <th>2</th>\n",
       "      <td>0</td>\n",
       "      <td>0</td>\n",
       "    </tr>\n",
       "    <tr>\n",
       "      <th>3</th>\n",
       "      <td>1</td>\n",
       "      <td>1</td>\n",
       "    </tr>\n",
       "    <tr>\n",
       "      <th>4</th>\n",
       "      <td>1</td>\n",
       "      <td>1</td>\n",
       "    </tr>\n",
       "    <tr>\n",
       "      <th>...</th>\n",
       "      <td>...</td>\n",
       "      <td>...</td>\n",
       "    </tr>\n",
       "    <tr>\n",
       "      <th>56</th>\n",
       "      <td>0</td>\n",
       "      <td>0</td>\n",
       "    </tr>\n",
       "    <tr>\n",
       "      <th>57</th>\n",
       "      <td>1</td>\n",
       "      <td>1</td>\n",
       "    </tr>\n",
       "    <tr>\n",
       "      <th>58</th>\n",
       "      <td>1</td>\n",
       "      <td>1</td>\n",
       "    </tr>\n",
       "    <tr>\n",
       "      <th>59</th>\n",
       "      <td>1</td>\n",
       "      <td>1</td>\n",
       "    </tr>\n",
       "    <tr>\n",
       "      <th>60</th>\n",
       "      <td>1</td>\n",
       "      <td>1</td>\n",
       "    </tr>\n",
       "  </tbody>\n",
       "</table>\n",
       "<p>61 rows × 2 columns</p>\n",
       "</div>"
      ],
      "text/plain": [
       "    0  1\n",
       "0   1  1\n",
       "1   1  1\n",
       "2   0  0\n",
       "3   1  1\n",
       "4   1  1\n",
       ".. .. ..\n",
       "56  0  0\n",
       "57  1  1\n",
       "58  1  1\n",
       "59  1  1\n",
       "60  1  1\n",
       "\n",
       "[61 rows x 2 columns]"
      ]
     },
     "execution_count": 44,
     "metadata": {},
     "output_type": "execute_result"
    }
   ],
   "source": [
    "pd.DataFrame(general_result[4000:])"
>>>>>>> 9450e0e4608de434bcea18082306024d45f21051
   ]
  },
  {
   "cell_type": "code",
<<<<<<< HEAD
   "execution_count": 27,
=======
   "execution_count": 47,
>>>>>>> 9450e0e4608de434bcea18082306024d45f21051
   "metadata": {},
   "outputs": [
    {
     "data": {
      "text/plain": [
<<<<<<< HEAD
       "Text(0.5, 1.0, 'regret')"
      ]
     },
     "execution_count": 27,
=======
       "Text(0, 0.5, 'error')"
      ]
     },
     "execution_count": 47,
>>>>>>> 9450e0e4608de434bcea18082306024d45f21051
     "metadata": {},
     "output_type": "execute_result"
    },
    {
     "data": {
<<<<<<< HEAD
      "image/png": "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",
=======
      "image/png": "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",
>>>>>>> 9450e0e4608de434bcea18082306024d45f21051
      "text/plain": [
       "<Figure size 576x396 with 1 Axes>"
      ]
     },
     "metadata": {},
     "output_type": "display_data"
    }
   ],
   "source": [
<<<<<<< HEAD
    "plt.plot(random_policy_regret, label='random_policy_regret')\n",
    "plt.plot(LinUCB_regret, label='LinUCB_regret')\n",
    "plt.plot(TS_regret,label='TS_regret')\n",
    "plt.legend(loc='best')\n",
    "plt.title('regret')\n"
=======
    "plt.plot(error_array)\n",
    "plt.title('error in ')\n",
    "plt.xlabel('mushroom NO.')\n",
    "plt.ylabel('error')"
>>>>>>> 9450e0e4608de434bcea18082306024d45f21051
   ]
  },
  {
   "cell_type": "code",
<<<<<<< HEAD
   "execution_count": 28,
=======
   "execution_count": 46,
>>>>>>> 9450e0e4608de434bcea18082306024d45f21051
   "metadata": {},
   "outputs": [
    {
     "data": {
      "text/plain": [
<<<<<<< HEAD
       "Text(0.5, 1.0, 'regret')"
      ]
     },
     "execution_count": 28,
     "metadata": {},
     "output_type": "execute_result"
    },
    {
     "data": {
      "image/png": "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",
      "text/plain": [
       "<Figure size 576x396 with 1 Axes>"
      ]
     },
     "metadata": {},
     "output_type": "display_data"
    }
   ],
   "source": [
    "plt.plot(LinUCB_regret, label='LinUCB_regret')\n",
    "plt.plot(TS_regret,label='TS_regret')\n",
    "plt.legend(loc='best')\n",
    "plt.title('regret')"
=======
       "1.0"
      ]
     },
     "execution_count": 46,
     "metadata": {},
     "output_type": "execute_result"
    }
   ],
   "source": [
    "from sklearn.datasets import load_breast_cancer\n",
    "from sklearn.linear_model import RidgeClassifier\n",
    "#X, y = load_breast_cancer(return_X_y=True)\n",
    "clf = RidgeClassifier().fit(X, y)\n",
    "clf.score(X_test, y_test)\n"
>>>>>>> 9450e0e4608de434bcea18082306024d45f21051
   ]
  }
 ],
 "metadata": {
  "interpreter": {
   "hash": "1828fec36f277e69a70c2312aa0e2ac46bf924d6aefcd83dd124dbd9157d7247"
  },
  "kernelspec": {
   "display_name": "Python 3.8.10 ('rl-env': venv)",
   "language": "python",
   "name": "python3"
  },
  "language_info": {
   "codemirror_mode": {
    "name": "ipython",
    "version": 3
   },
   "file_extension": ".py",
   "mimetype": "text/x-python",
   "name": "python",
   "nbconvert_exporter": "python",
   "pygments_lexer": "ipython3",
   "version": "3.8.10"
  },
  "orig_nbformat": 4
 },
 "nbformat": 4,
 "nbformat_minor": 2
}
